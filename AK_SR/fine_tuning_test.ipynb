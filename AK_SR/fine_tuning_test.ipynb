{
 "cells": [
  {
   "cell_type": "markdown",
   "id": "01be7254-872a-43f9-b6b0-2fd165f7a284",
   "metadata": {},
   "source": [
    "### This notebook was used in January 2022 for the training of the prod version of the model\n",
    "The results show that the production version is not much more precise then the development version (model used in UAT, namely \"sr_similarity_20211116\").\n",
    "\n",
    "That's because the production version was finetuned on around 5500 samples, while dev version was finetuned on 5000 samples.\n",
    "\n",
    "It is important to note that among the 5k samples used in 2021, there were no examples of free text, while in the additional ~500 there is about half of free text examples. This means that the fine-tuned model loaded in production should be better than the older one with respect to free text to Service Requests comparison.\n",
    "\n",
    "When the feedback collection in production will have gathered thousands of labeled examples, we expect the models to improve even more."
   ]
  },
  {
   "cell_type": "code",
   "execution_count": 11,
   "id": "3567c4c3-4c9b-4c44-b758-e71de7732d5a",
   "metadata": {},
   "outputs": [],
   "source": [
    "# !pip install JayDeBeApi\n",
    "# !pip install -U pytest"
   ]
  },
  {
   "cell_type": "code",
   "execution_count": 2,
   "id": "27bd57e3-e788-4047-93c9-145779c029e4",
   "metadata": {},
   "outputs": [],
   "source": [
    "# !apt-get update\n",
    "# !apt-get install -y libpq-dev\n",
    "# !pip install sqlalchemy psycopg2\n",
    "\n",
    "# !apt-get update  -y\n",
    "# !apt-get install postgresql-client  -y\n",
    "# !apt-get install libpq-dev -y\n",
    "# !pip install django psycopg2"
   ]
  },
  {
   "cell_type": "code",
   "execution_count": 9,
   "id": "2bfa7336-7c30-452c-94b0-615412e310a9",
   "metadata": {},
   "outputs": [],
   "source": [
    "import sentence_transformers as st"
   ]
  },
  {
   "cell_type": "code",
   "execution_count": 10,
   "id": "fe4389d9-563b-4252-9527-f142be61de5a",
   "metadata": {},
   "outputs": [
    {
     "name": "stdout",
     "output_type": "stream",
     "text": [
      "2.1.0\n"
     ]
    }
   ],
   "source": [
    "print(st.__version__)"
   ]
  },
  {
   "cell_type": "markdown",
   "id": "2bdde36b-9419-4f93-8338-6e084bf62f73",
   "metadata": {},
   "source": [
    "## Start HERE"
   ]
  },
  {
   "cell_type": "code",
   "execution_count": 1,
   "id": "da3bdb4b-2295-4f1a-b1c0-287db6452ba7",
   "metadata": {},
   "outputs": [],
   "source": [
    "import pandas as pd\n",
    "import numpy as np"
   ]
  },
  {
   "cell_type": "code",
   "execution_count": 2,
   "id": "bb48064d-5338-4fde-a2a2-0d47df8e7066",
   "metadata": {},
   "outputs": [
    {
     "name": "stderr",
     "output_type": "stream",
     "text": [
      "/tmp/ipykernel_10599/1555318266.py:3: DtypeWarning: Columns (4,6,7,8,9,12,13,14,15,16,17,18,19,25) have mixed types.Specify dtype option on import or set low_memory=False.\n",
      "  from servicerequestslib.model_fine_tuning import *\n"
     ]
    }
   ],
   "source": [
    "from servicerequestslib.preprocessing import preprocessingSR\n",
    "from servicerequestslib.vector_inference import obtain_embeddings\n",
    "from servicerequestslib.model_fine_tuning import *"
   ]
  },
  {
   "cell_type": "code",
   "execution_count": 3,
   "id": "f2e81b80-cabf-4e59-97ef-ac8d00197fa9",
   "metadata": {},
   "outputs": [
    {
     "name": "stderr",
     "output_type": "stream",
     "text": [
      "/usr/local/lib/python3.8/dist-packages/IPython/core/interactiveshell.py:3441: DtypeWarning: Columns (4,6,7,8,9,12,13,14,15,16,17,18,19,25) have mixed types.Specify dtype option on import or set low_memory=False.\n",
      "  exec(code_obj, self.user_global_ns, self.user_ns)\n"
     ]
    }
   ],
   "source": [
    "sr_for_database = pd.read_csv('data/dataset_for_finetuning_2022January.csv', index_col='ID')"
   ]
  },
  {
   "cell_type": "code",
   "execution_count": 4,
   "id": "e2945014-6b43-4e68-aaf7-1ebca96d0155",
   "metadata": {},
   "outputs": [
    {
     "data": {
      "text/plain": [
       "(165359, 28)"
      ]
     },
     "execution_count": 4,
     "metadata": {},
     "output_type": "execute_result"
    }
   ],
   "source": [
    "sr_for_database.shape"
   ]
  },
  {
   "cell_type": "code",
   "execution_count": 5,
   "id": "95f0bfaa-97c9-493c-988d-9c8e43982aa5",
   "metadata": {},
   "outputs": [
    {
     "name": "stderr",
     "output_type": "stream",
     "text": [
      "/usr/local/lib/python3.8/dist-packages/pandas/util/_decorators.py:311: ParserWarning: Falling back to the 'python' engine because the 'c' engine does not support sep=None with delim_whitespace=False; you can avoid this warning by specifying engine='python'.\n",
      "  return func(*args, **kwargs)\n"
     ]
    }
   ],
   "source": [
    "feedbacks = pd.read_csv('data/UAT_feedbacks_dic2021.csv', sep=None)"
   ]
  },
  {
   "cell_type": "code",
   "execution_count": 6,
   "id": "5a65a4a6-4bfd-4e5b-a8f5-316acd76ae7a",
   "metadata": {},
   "outputs": [
    {
     "name": "stderr",
     "output_type": "stream",
     "text": [
      "/workspace/chiara/2012_AK_SR_prod/2012_AK_SR_repository/servicerequestslib/model_fine_tuning.py:65: SettingWithCopyWarning: \n",
      "A value is trying to be set on a copy of a slice from a DataFrame.\n",
      "Try using .loc[row_indexer,col_indexer] = value instead\n",
      "\n",
      "See the caveats in the documentation: https://pandas.pydata.org/pandas-docs/stable/user_guide/indexing.html#returning-a-view-versus-a-copy\n",
      "  feedbacks['label'] = feedbacks[feedback_column].map(assess_dictionary)\n",
      "/usr/local/lib/python3.8/dist-packages/pandas/core/frame.py:5039: SettingWithCopyWarning: \n",
      "A value is trying to be set on a copy of a slice from a DataFrame\n",
      "\n",
      "See the caveats in the documentation: https://pandas.pydata.org/pandas-docs/stable/user_guide/indexing.html#returning-a-view-versus-a-copy\n",
      "  return super().rename(\n"
     ]
    },
    {
     "name": "stdout",
     "output_type": "stream",
     "text": [
      "   tested_case_number  reference  label query_type\n",
      "0            90391469   90385557    0.9         SR\n",
      "1            90358492   90385557    0.3         SR\n",
      "2            90368307   90385557    0.3         SR\n",
      "3            90250812   90385557    0.9         SR\n",
      "4            90316555   90385557    0.3         SR\n",
      "   tested_case_number                                reference  label  \\\n",
      "0            90377892                         contaminated DGS    0.9   \n",
      "1            90416657        we found issues on energized seal    0.9   \n",
      "2            90397122        we found issues on energized seal    0.9   \n",
      "3            90376654  failure for Honeywell ST800 transmitter    0.9   \n",
      "4            90398483  failure for Honeywell ST800 transmitter    0.7   \n",
      "\n",
      "  query_type  \n",
      "0       text  \n",
      "1       text  \n",
      "2       text  \n",
      "3       text  \n",
      "4       text  \n",
      "(5794, 4)\n",
      "4043\n",
      "Size of test set: (1159,)\n",
      "Size of test set w/o nans: (1098, 5)\n",
      "size of y: (1098,)\n",
      "R squared: 0.91399\n",
      "MSE: 0.00501\n",
      "Pearson correlation: 0.96633\n",
      "Spearman correlation: 0.79679\n"
     ]
    },
    {
     "data": {
      "application/vnd.jupyter.widget-view+json": {
       "model_id": "58048662620e425295e540bb88c2da52",
       "version_major": 2,
       "version_minor": 0
      },
      "text/plain": [
       "Epoch:   0%|          | 0/10 [00:00<?, ?it/s]"
      ]
     },
     "metadata": {},
     "output_type": "display_data"
    },
    {
     "data": {
      "application/vnd.jupyter.widget-view+json": {
       "model_id": "d7afe3cc9c6b43c8b9e78ff449082595",
       "version_major": 2,
       "version_minor": 0
      },
      "text/plain": [
       "Iteration:   0%|          | 0/253 [00:00<?, ?it/s]"
      ]
     },
     "metadata": {},
     "output_type": "display_data"
    },
    {
     "data": {
      "application/vnd.jupyter.widget-view+json": {
       "model_id": "dabbf272cbef477fbc557dad82fbec72",
       "version_major": 2,
       "version_minor": 0
      },
      "text/plain": [
       "Iteration:   0%|          | 0/253 [00:00<?, ?it/s]"
      ]
     },
     "metadata": {},
     "output_type": "display_data"
    },
    {
     "data": {
      "application/vnd.jupyter.widget-view+json": {
       "model_id": "669904e4ae08409787f7ef0c9afbcd3c",
       "version_major": 2,
       "version_minor": 0
      },
      "text/plain": [
       "Iteration:   0%|          | 0/253 [00:00<?, ?it/s]"
      ]
     },
     "metadata": {},
     "output_type": "display_data"
    },
    {
     "data": {
      "application/vnd.jupyter.widget-view+json": {
       "model_id": "ae19864e95e446f29857f224a6f723e7",
       "version_major": 2,
       "version_minor": 0
      },
      "text/plain": [
       "Iteration:   0%|          | 0/253 [00:00<?, ?it/s]"
      ]
     },
     "metadata": {},
     "output_type": "display_data"
    },
    {
     "data": {
      "application/vnd.jupyter.widget-view+json": {
       "model_id": "81303e4153e04f18bb40f61ab261d64c",
       "version_major": 2,
       "version_minor": 0
      },
      "text/plain": [
       "Iteration:   0%|          | 0/253 [00:00<?, ?it/s]"
      ]
     },
     "metadata": {},
     "output_type": "display_data"
    },
    {
     "data": {
      "application/vnd.jupyter.widget-view+json": {
       "model_id": "a3bcd948e53b41a6a94a91aebbd9173b",
       "version_major": 2,
       "version_minor": 0
      },
      "text/plain": [
       "Iteration:   0%|          | 0/253 [00:00<?, ?it/s]"
      ]
     },
     "metadata": {},
     "output_type": "display_data"
    },
    {
     "data": {
      "application/vnd.jupyter.widget-view+json": {
       "model_id": "9d3ad0a064bb40129ecc8ba8a63a0cf1",
       "version_major": 2,
       "version_minor": 0
      },
      "text/plain": [
       "Iteration:   0%|          | 0/253 [00:00<?, ?it/s]"
      ]
     },
     "metadata": {},
     "output_type": "display_data"
    },
    {
     "data": {
      "application/vnd.jupyter.widget-view+json": {
       "model_id": "f203db40088b4f6888dd94e3d0363323",
       "version_major": 2,
       "version_minor": 0
      },
      "text/plain": [
       "Iteration:   0%|          | 0/253 [00:00<?, ?it/s]"
      ]
     },
     "metadata": {},
     "output_type": "display_data"
    },
    {
     "data": {
      "application/vnd.jupyter.widget-view+json": {
       "model_id": "41e0cab4da7c43deb725bd64b6df4366",
       "version_major": 2,
       "version_minor": 0
      },
      "text/plain": [
       "Iteration:   0%|          | 0/253 [00:00<?, ?it/s]"
      ]
     },
     "metadata": {},
     "output_type": "display_data"
    },
    {
     "data": {
      "application/vnd.jupyter.widget-view+json": {
       "model_id": "8f89fa70e13e46f69d7ab3653461efc1",
       "version_major": 2,
       "version_minor": 0
      },
      "text/plain": [
       "Iteration:   0%|          | 0/253 [00:00<?, ?it/s]"
      ]
     },
     "metadata": {},
     "output_type": "display_data"
    },
    {
     "name": "stdout",
     "output_type": "stream",
     "text": [
      "Size of test set: (1159,)\n",
      "Size of test set w/o nans: (1098, 5)\n",
      "size of y: (1098,)\n",
      "R squared: 0.83975\n",
      "MSE: 0.00933\n",
      "Pearson correlation: 0.91965\n",
      "Spearman correlation: 0.77288\n"
     ]
    },
    {
     "data": {
      "application/vnd.jupyter.widget-view+json": {
       "model_id": "85a983aacd4e4434bdfb561445f05a8a",
       "version_major": 2,
       "version_minor": 0
      },
      "text/plain": [
       "Epoch:   0%|          | 0/10 [00:00<?, ?it/s]"
      ]
     },
     "metadata": {},
     "output_type": "display_data"
    },
    {
     "data": {
      "application/vnd.jupyter.widget-view+json": {
       "model_id": "cf3b0115fe314ac49fad9c37ffeebf85",
       "version_major": 2,
       "version_minor": 0
      },
      "text/plain": [
       "Iteration:   0%|          | 0/253 [00:00<?, ?it/s]"
      ]
     },
     "metadata": {},
     "output_type": "display_data"
    },
    {
     "data": {
      "application/vnd.jupyter.widget-view+json": {
       "model_id": "ad7d50019c93488e80ec71dc94401fd3",
       "version_major": 2,
       "version_minor": 0
      },
      "text/plain": [
       "Iteration:   0%|          | 0/253 [00:00<?, ?it/s]"
      ]
     },
     "metadata": {},
     "output_type": "display_data"
    },
    {
     "data": {
      "application/vnd.jupyter.widget-view+json": {
       "model_id": "cc3269cdcec84fefb12831e2a17f10c6",
       "version_major": 2,
       "version_minor": 0
      },
      "text/plain": [
       "Iteration:   0%|          | 0/253 [00:00<?, ?it/s]"
      ]
     },
     "metadata": {},
     "output_type": "display_data"
    },
    {
     "data": {
      "application/vnd.jupyter.widget-view+json": {
       "model_id": "8bd8ac6962e54feb9abac8355df62919",
       "version_major": 2,
       "version_minor": 0
      },
      "text/plain": [
       "Iteration:   0%|          | 0/253 [00:00<?, ?it/s]"
      ]
     },
     "metadata": {},
     "output_type": "display_data"
    },
    {
     "data": {
      "application/vnd.jupyter.widget-view+json": {
       "model_id": "c1fb7b5eacc84c74ae17ab78ed320344",
       "version_major": 2,
       "version_minor": 0
      },
      "text/plain": [
       "Iteration:   0%|          | 0/253 [00:00<?, ?it/s]"
      ]
     },
     "metadata": {},
     "output_type": "display_data"
    },
    {
     "data": {
      "application/vnd.jupyter.widget-view+json": {
       "model_id": "455d2701fb1241e3815f50ecde14a573",
       "version_major": 2,
       "version_minor": 0
      },
      "text/plain": [
       "Iteration:   0%|          | 0/253 [00:00<?, ?it/s]"
      ]
     },
     "metadata": {},
     "output_type": "display_data"
    },
    {
     "data": {
      "application/vnd.jupyter.widget-view+json": {
       "model_id": "b648f245ac5f4f56b64ae1bdf69ae04e",
       "version_major": 2,
       "version_minor": 0
      },
      "text/plain": [
       "Iteration:   0%|          | 0/253 [00:00<?, ?it/s]"
      ]
     },
     "metadata": {},
     "output_type": "display_data"
    },
    {
     "data": {
      "application/vnd.jupyter.widget-view+json": {
       "model_id": "da6e2aa3767a4198a4bf1a2255ec5193",
       "version_major": 2,
       "version_minor": 0
      },
      "text/plain": [
       "Iteration:   0%|          | 0/253 [00:00<?, ?it/s]"
      ]
     },
     "metadata": {},
     "output_type": "display_data"
    },
    {
     "data": {
      "application/vnd.jupyter.widget-view+json": {
       "model_id": "78f222b881d74798baf5b229c0d88e22",
       "version_major": 2,
       "version_minor": 0
      },
      "text/plain": [
       "Iteration:   0%|          | 0/253 [00:00<?, ?it/s]"
      ]
     },
     "metadata": {},
     "output_type": "display_data"
    },
    {
     "data": {
      "application/vnd.jupyter.widget-view+json": {
       "model_id": "2d703665d37c455d9051f72fc71e3590",
       "version_major": 2,
       "version_minor": 0
      },
      "text/plain": [
       "Iteration:   0%|          | 0/253 [00:00<?, ?it/s]"
      ]
     },
     "metadata": {},
     "output_type": "display_data"
    },
    {
     "name": "stdout",
     "output_type": "stream",
     "text": [
      "Size of test set: (1159,)\n",
      "Size of test set w/o nans: (1098, 5)\n",
      "size of y: (1098,)\n",
      "R squared: 0.76627\n",
      "MSE: 0.01361\n",
      "Pearson correlation: 0.87630\n",
      "Spearman correlation: 0.76877\n"
     ]
    },
    {
     "data": {
      "application/vnd.jupyter.widget-view+json": {
       "model_id": "2fcc930ac1ca40c9a42a7da6eab43b26",
       "version_major": 2,
       "version_minor": 0
      },
      "text/plain": [
       "Epoch:   0%|          | 0/10 [00:00<?, ?it/s]"
      ]
     },
     "metadata": {},
     "output_type": "display_data"
    },
    {
     "data": {
      "application/vnd.jupyter.widget-view+json": {
       "model_id": "4c3adcc43b2f4aac9264bc8bd51c0a70",
       "version_major": 2,
       "version_minor": 0
      },
      "text/plain": [
       "Iteration:   0%|          | 0/253 [00:00<?, ?it/s]"
      ]
     },
     "metadata": {},
     "output_type": "display_data"
    },
    {
     "data": {
      "application/vnd.jupyter.widget-view+json": {
       "model_id": "d4fdd1118c1d4c8eb552aa30706a6018",
       "version_major": 2,
       "version_minor": 0
      },
      "text/plain": [
       "Iteration:   0%|          | 0/253 [00:00<?, ?it/s]"
      ]
     },
     "metadata": {},
     "output_type": "display_data"
    },
    {
     "data": {
      "application/vnd.jupyter.widget-view+json": {
       "model_id": "6fd948cc41df489fbd249da1d04c31b9",
       "version_major": 2,
       "version_minor": 0
      },
      "text/plain": [
       "Iteration:   0%|          | 0/253 [00:00<?, ?it/s]"
      ]
     },
     "metadata": {},
     "output_type": "display_data"
    },
    {
     "data": {
      "application/vnd.jupyter.widget-view+json": {
       "model_id": "9bc2c519ba764f3daedb1ca31b41531b",
       "version_major": 2,
       "version_minor": 0
      },
      "text/plain": [
       "Iteration:   0%|          | 0/253 [00:00<?, ?it/s]"
      ]
     },
     "metadata": {},
     "output_type": "display_data"
    },
    {
     "data": {
      "application/vnd.jupyter.widget-view+json": {
       "model_id": "3c1519e20b104c079ed18adc4c76d571",
       "version_major": 2,
       "version_minor": 0
      },
      "text/plain": [
       "Iteration:   0%|          | 0/253 [00:00<?, ?it/s]"
      ]
     },
     "metadata": {},
     "output_type": "display_data"
    },
    {
     "data": {
      "application/vnd.jupyter.widget-view+json": {
       "model_id": "20392bebfe784ca6828ef9e84d003a63",
       "version_major": 2,
       "version_minor": 0
      },
      "text/plain": [
       "Iteration:   0%|          | 0/253 [00:00<?, ?it/s]"
      ]
     },
     "metadata": {},
     "output_type": "display_data"
    },
    {
     "data": {
      "application/vnd.jupyter.widget-view+json": {
       "model_id": "5a58969ca0c945aaab8895a9b7d91ee3",
       "version_major": 2,
       "version_minor": 0
      },
      "text/plain": [
       "Iteration:   0%|          | 0/253 [00:00<?, ?it/s]"
      ]
     },
     "metadata": {},
     "output_type": "display_data"
    },
    {
     "data": {
      "application/vnd.jupyter.widget-view+json": {
       "model_id": "891ff303c7814af5906d2087bfc06206",
       "version_major": 2,
       "version_minor": 0
      },
      "text/plain": [
       "Iteration:   0%|          | 0/253 [00:00<?, ?it/s]"
      ]
     },
     "metadata": {},
     "output_type": "display_data"
    },
    {
     "data": {
      "application/vnd.jupyter.widget-view+json": {
       "model_id": "25fabab4fdc341ea878d36ad63bca7e6",
       "version_major": 2,
       "version_minor": 0
      },
      "text/plain": [
       "Iteration:   0%|          | 0/253 [00:00<?, ?it/s]"
      ]
     },
     "metadata": {},
     "output_type": "display_data"
    },
    {
     "data": {
      "application/vnd.jupyter.widget-view+json": {
       "model_id": "bb543eefa3b44a28b277490688e33075",
       "version_major": 2,
       "version_minor": 0
      },
      "text/plain": [
       "Iteration:   0%|          | 0/253 [00:00<?, ?it/s]"
      ]
     },
     "metadata": {},
     "output_type": "display_data"
    },
    {
     "name": "stdout",
     "output_type": "stream",
     "text": [
      "Size of test set: (1159,)\n",
      "Size of test set w/o nans: (1098, 5)\n",
      "size of y: (1098,)\n",
      "R squared: 0.85226\n",
      "MSE: 0.00860\n",
      "Pearson correlation: 0.92335\n",
      "Spearman correlation: 0.77160\n"
     ]
    },
    {
     "data": {
      "application/vnd.jupyter.widget-view+json": {
       "model_id": "5986e1b74b184122baab2f1b5baac2ca",
       "version_major": 2,
       "version_minor": 0
      },
      "text/plain": [
       "Epoch:   0%|          | 0/10 [00:00<?, ?it/s]"
      ]
     },
     "metadata": {},
     "output_type": "display_data"
    },
    {
     "data": {
      "application/vnd.jupyter.widget-view+json": {
       "model_id": "22f4e4421f0c44ef81f01ad651e6acae",
       "version_major": 2,
       "version_minor": 0
      },
      "text/plain": [
       "Iteration:   0%|          | 0/253 [00:00<?, ?it/s]"
      ]
     },
     "metadata": {},
     "output_type": "display_data"
    },
    {
     "data": {
      "application/vnd.jupyter.widget-view+json": {
       "model_id": "d64113d2854a4baa94780b343385cb42",
       "version_major": 2,
       "version_minor": 0
      },
      "text/plain": [
       "Iteration:   0%|          | 0/253 [00:00<?, ?it/s]"
      ]
     },
     "metadata": {},
     "output_type": "display_data"
    },
    {
     "data": {
      "application/vnd.jupyter.widget-view+json": {
       "model_id": "8775a9ce27074271aed03031c8cd4fdd",
       "version_major": 2,
       "version_minor": 0
      },
      "text/plain": [
       "Iteration:   0%|          | 0/253 [00:00<?, ?it/s]"
      ]
     },
     "metadata": {},
     "output_type": "display_data"
    },
    {
     "data": {
      "application/vnd.jupyter.widget-view+json": {
       "model_id": "02b7600c79ac4ae68cc03287f7b4c965",
       "version_major": 2,
       "version_minor": 0
      },
      "text/plain": [
       "Iteration:   0%|          | 0/253 [00:00<?, ?it/s]"
      ]
     },
     "metadata": {},
     "output_type": "display_data"
    },
    {
     "data": {
      "application/vnd.jupyter.widget-view+json": {
       "model_id": "80db25236a4a461d9b249ff11250631e",
       "version_major": 2,
       "version_minor": 0
      },
      "text/plain": [
       "Iteration:   0%|          | 0/253 [00:00<?, ?it/s]"
      ]
     },
     "metadata": {},
     "output_type": "display_data"
    },
    {
     "data": {
      "application/vnd.jupyter.widget-view+json": {
       "model_id": "ed57e54823f24784b195324c208d7250",
       "version_major": 2,
       "version_minor": 0
      },
      "text/plain": [
       "Iteration:   0%|          | 0/253 [00:00<?, ?it/s]"
      ]
     },
     "metadata": {},
     "output_type": "display_data"
    },
    {
     "data": {
      "application/vnd.jupyter.widget-view+json": {
       "model_id": "85e7d5faf0324359a3cb7f4e3c5ff850",
       "version_major": 2,
       "version_minor": 0
      },
      "text/plain": [
       "Iteration:   0%|          | 0/253 [00:00<?, ?it/s]"
      ]
     },
     "metadata": {},
     "output_type": "display_data"
    },
    {
     "data": {
      "application/vnd.jupyter.widget-view+json": {
       "model_id": "7a68e8e1f3c2474fac55988b940f2644",
       "version_major": 2,
       "version_minor": 0
      },
      "text/plain": [
       "Iteration:   0%|          | 0/253 [00:00<?, ?it/s]"
      ]
     },
     "metadata": {},
     "output_type": "display_data"
    },
    {
     "data": {
      "application/vnd.jupyter.widget-view+json": {
       "model_id": "52ef08fb508e454c9fc7c6b419d426e2",
       "version_major": 2,
       "version_minor": 0
      },
      "text/plain": [
       "Iteration:   0%|          | 0/253 [00:00<?, ?it/s]"
      ]
     },
     "metadata": {},
     "output_type": "display_data"
    },
    {
     "data": {
      "application/vnd.jupyter.widget-view+json": {
       "model_id": "07d75933750f469c930ea85215824997",
       "version_major": 2,
       "version_minor": 0
      },
      "text/plain": [
       "Iteration:   0%|          | 0/253 [00:00<?, ?it/s]"
      ]
     },
     "metadata": {},
     "output_type": "display_data"
    },
    {
     "name": "stdout",
     "output_type": "stream",
     "text": [
      "Size of test set: (1159,)\n",
      "Size of test set w/o nans: (1098, 5)\n",
      "size of y: (1098,)\n",
      "R squared: 0.81505\n",
      "MSE: 0.01077\n",
      "Pearson correlation: 0.91105\n",
      "Spearman correlation: 0.77470\n",
      "               currently_baseline  \\\n",
      "R squared                0.913995   \n",
      "MSE                      0.005006   \n",
      "Pearson corr             0.966325   \n",
      "Spearman corr            0.796786   \n",
      "\n",
      "               finetuned_distiluse-base-multilingual-cased-v1  \\\n",
      "R squared                                            0.839755   \n",
      "MSE                                                  0.009328   \n",
      "Pearson corr                                         0.919650   \n",
      "Spearman corr                                        0.772882   \n",
      "\n",
      "               finetuned_paraphrase-MiniLM-L3-v2  \\\n",
      "R squared                               0.766270   \n",
      "MSE                                     0.013606   \n",
      "Pearson corr                            0.876297   \n",
      "Spearman corr                           0.768772   \n",
      "\n",
      "               finetuned_paraphrase-albert-small-v2  \\\n",
      "R squared                                  0.852264   \n",
      "MSE                                        0.008600   \n",
      "Pearson corr                               0.923350   \n",
      "Spearman corr                              0.771597   \n",
      "\n",
      "               finetuned_all-MiniLM-L6-v2  \n",
      "R squared                        0.815054  \n",
      "MSE                              0.010766  \n",
      "Pearson corr                     0.911051  \n",
      "Spearman corr                    0.774701  \n",
      "baseline selected!\n",
      "No need to retrain yet.\n"
     ]
    }
   ],
   "source": [
    "new_model = model_fine_tuning(feedbacks, sr_for_database)"
   ]
  },
  {
   "cell_type": "markdown",
   "id": "a13d3f32-aed1-401c-b912-3e0097c31d47",
   "metadata": {},
   "source": [
    "## END"
   ]
  },
  {
   "cell_type": "code",
   "execution_count": null,
   "id": "04a8f0cd-c5e3-41ef-9b09-a1e42ea0039f",
   "metadata": {},
   "outputs": [],
   "source": []
  },
  {
   "cell_type": "code",
   "execution_count": null,
   "id": "70e13f8b-9f68-4b52-93b1-0b701b3947ac",
   "metadata": {},
   "outputs": [],
   "source": []
  },
  {
   "cell_type": "code",
   "execution_count": null,
   "id": "5415c882-3106-4600-ae06-1b3c9ac74122",
   "metadata": {},
   "outputs": [],
   "source": []
  },
  {
   "cell_type": "markdown",
   "id": "45d59be2-d173-4b77-a7a6-4700f3e5ec1c",
   "metadata": {},
   "source": [
    "## Old data preparation"
   ]
  },
  {
   "cell_type": "code",
   "execution_count": 9,
   "id": "a33e6a6e-e391-470f-bdc9-dc8fe98c2ef8",
   "metadata": {},
   "outputs": [
    {
     "data": {
      "text/plain": [
       "(142308, 199)"
      ]
     },
     "execution_count": 9,
     "metadata": {},
     "output_type": "execute_result"
    }
   ],
   "source": [
    "filename='/data/coq-ncm/allsr/ALL_SR_2014_2020_v20210218.h5'\n",
    "C_TEXT='_TEXT_FULL'\n",
    "C_TEXT_LONG = '_TEXT_LONG'\n",
    "C_ID='u_case_number' # this is used to retrieve the index of the human-labelled clusters\n",
    "\n",
    "datasetSR = pd.read_hdf(filename)\n",
    "\n",
    "df = datasetSR.drop(datasetSR[datasetSR['u_fast_containment'] == 'Yes'].index, axis=0)\n",
    "\n",
    "df_en = df[df['_LANGUAGE'] == 'en']\n",
    "df_en.shape"
   ]
  },
  {
   "cell_type": "code",
   "execution_count": 14,
   "id": "eb1de342-42a8-4ec8-9cab-a88e7d04a55a",
   "metadata": {},
   "outputs": [],
   "source": [
    "columns_mapper = {'u_case_number': 'CASE_NUMBER', \n",
    "                  'u_problem_description': 'PROBLEM_DESCRIPTION',\n",
    "                  'u_solution_description': 'SOLUTION_DESCRIPTION',\n",
    "                  'u_expert_assessment_descriptio': 'EXPERT_ASSESSMENT_DESCRIPTION',\n",
    "                  'u_first_reply_solution': 'FIRST_REPLY_SOLUTION'}\n",
    "reduced_df = df_en.rename(columns=columns_mapper)[['CASE_NUMBER', 'PROBLEM_DESCRIPTION',\n",
    "       'SOLUTION_DESCRIPTION', 'FIRST_REPLY_SOLUTION', 'EXPERT_ASSESSMENT_DESCRIPTION']]"
   ]
  },
  {
   "cell_type": "code",
   "execution_count": 15,
   "id": "94f03335-d738-4c44-a0f8-e0d910160bf2",
   "metadata": {},
   "outputs": [
    {
     "data": {
      "text/html": [
       "<div>\n",
       "<style scoped>\n",
       "    .dataframe tbody tr th:only-of-type {\n",
       "        vertical-align: middle;\n",
       "    }\n",
       "\n",
       "    .dataframe tbody tr th {\n",
       "        vertical-align: top;\n",
       "    }\n",
       "\n",
       "    .dataframe thead th {\n",
       "        text-align: right;\n",
       "    }\n",
       "</style>\n",
       "<table border=\"1\" class=\"dataframe\">\n",
       "  <thead>\n",
       "    <tr style=\"text-align: right;\">\n",
       "      <th></th>\n",
       "      <th>CASE_NUMBER</th>\n",
       "      <th>PROBLEM_DESCRIPTION</th>\n",
       "      <th>SOLUTION_DESCRIPTION</th>\n",
       "      <th>FIRST_REPLY_SOLUTION</th>\n",
       "      <th>EXPERT_ASSESSMENT_DESCRIPTION</th>\n",
       "    </tr>\n",
       "  </thead>\n",
       "  <tbody>\n",
       "    <tr>\n",
       "      <th>0</th>\n",
       "      <td>90200038</td>\n",
       "      <td>red marked up from site</td>\n",
       "      <td>Mark up to update job no and device/wiring tag...</td>\n",
       "      <td>NaN</td>\n",
       "      <td>.</td>\n",
       "    </tr>\n",
       "    <tr>\n",
       "      <th>1</th>\n",
       "      <td>90200055</td>\n",
       "      <td>As per LOC items should be only EU or US origi...</td>\n",
       "      <td>NaN</td>\n",
       "      <td>NaN</td>\n",
       "      <td>material shipped</td>\n",
       "    </tr>\n",
       "    <tr>\n",
       "      <th>2</th>\n",
       "      <td>90200082</td>\n",
       "      <td>from Technical clarification SR0003032\\r\\n----...</td>\n",
       "      <td>THE ACTUAL PIPE INSIDE THE OIL TANK IS CORRECT...</td>\n",
       "      <td>NaN</td>\n",
       "      <td>THE ENGINEERING DEPARTMENT MUST  MODIFY THE P&amp;...</td>\n",
       "    </tr>\n",
       "    <tr>\n",
       "      <th>3</th>\n",
       "      <td>90200087</td>\n",
       "      <td>damage of  two  wheels.\\r\\n\\r\\nPlease forward ...</td>\n",
       "      <td>The case can be closed, has been open a dedica...</td>\n",
       "      <td>NaN</td>\n",
       "      <td>Please see solution assessment.\\r\\nRegards.\\r\\...</td>\n",
       "    </tr>\n",
       "    <tr>\n",
       "      <th>4</th>\n",
       "      <td>90200093</td>\n",
       "      <td>IRMA MINERAL OIL SEPARATOR UNABLE TO MAINTAIN ...</td>\n",
       "      <td>It has been established basing on the detail a...</td>\n",
       "      <td>NaN</td>\n",
       "      <td>Technical clarification.</td>\n",
       "    </tr>\n",
       "  </tbody>\n",
       "</table>\n",
       "</div>"
      ],
      "text/plain": [
       "   CASE_NUMBER                                PROBLEM_DESCRIPTION  \\\n",
       "0     90200038                            red marked up from site   \n",
       "1     90200055  As per LOC items should be only EU or US origi...   \n",
       "2     90200082  from Technical clarification SR0003032\\r\\n----...   \n",
       "3     90200087  damage of  two  wheels.\\r\\n\\r\\nPlease forward ...   \n",
       "4     90200093  IRMA MINERAL OIL SEPARATOR UNABLE TO MAINTAIN ...   \n",
       "\n",
       "                                SOLUTION_DESCRIPTION FIRST_REPLY_SOLUTION  \\\n",
       "0  Mark up to update job no and device/wiring tag...                  NaN   \n",
       "1                                                NaN                  NaN   \n",
       "2  THE ACTUAL PIPE INSIDE THE OIL TANK IS CORRECT...                  NaN   \n",
       "3  The case can be closed, has been open a dedica...                  NaN   \n",
       "4  It has been established basing on the detail a...                  NaN   \n",
       "\n",
       "                       EXPERT_ASSESSMENT_DESCRIPTION  \n",
       "0                                                  .  \n",
       "1                                   material shipped  \n",
       "2  THE ENGINEERING DEPARTMENT MUST  MODIFY THE P&...  \n",
       "3  Please see solution assessment.\\r\\nRegards.\\r\\...  \n",
       "4                           Technical clarification.  "
      ]
     },
     "execution_count": 15,
     "metadata": {},
     "output_type": "execute_result"
    }
   ],
   "source": [
    "reduced_df.head()"
   ]
  },
  {
   "cell_type": "code",
   "execution_count": 3,
   "id": "87950d46-e3d9-4305-afab-cbf3ce246ff9",
   "metadata": {},
   "outputs": [],
   "source": [
    "# sr_df = pd.read_csv('tests/fixtures/miniSRdf_SQL.csv', index_col='CASE_NUMBER')\n",
    "# embeddings_df = pd.read_csv('tests/fixtures/embeddings_SQL.csv', index_col='CASE_NUMBER')"
   ]
  },
  {
   "cell_type": "code",
   "execution_count": 11,
   "id": "a0d5a005-79a4-4edb-b204-aa514b018ead",
   "metadata": {},
   "outputs": [],
   "source": [
    "sr_df = pd.read_csv('/data/coq-ncm/allsr/extraction20211229.csv').drop(columns = 'Unnamed: 0')"
   ]
  },
  {
   "cell_type": "code",
   "execution_count": 18,
   "id": "37e69b0f-9400-4d32-a86f-05b4694a0beb",
   "metadata": {},
   "outputs": [
    {
     "data": {
      "text/plain": [
       "(98188, 23)"
      ]
     },
     "execution_count": 18,
     "metadata": {},
     "output_type": "execute_result"
    }
   ],
   "source": [
    "sr_df.shape"
   ]
  },
  {
   "cell_type": "code",
   "execution_count": 17,
   "id": "1e8ce90e-2300-4dbb-841b-cd18dca527c2",
   "metadata": {},
   "outputs": [
    {
     "data": {
      "text/html": [
       "<div>\n",
       "<style scoped>\n",
       "    .dataframe tbody tr th:only-of-type {\n",
       "        vertical-align: middle;\n",
       "    }\n",
       "\n",
       "    .dataframe tbody tr th {\n",
       "        vertical-align: top;\n",
       "    }\n",
       "\n",
       "    .dataframe thead th {\n",
       "        text-align: right;\n",
       "    }\n",
       "</style>\n",
       "<table border=\"1\" class=\"dataframe\">\n",
       "  <thead>\n",
       "    <tr style=\"text-align: right;\">\n",
       "      <th></th>\n",
       "      <th>CASE_NUMBER</th>\n",
       "      <th>CURRENT_TYPEOFISSUE</th>\n",
       "      <th>PROBLEM_DESCRIPTION</th>\n",
       "      <th>SOLUTION_DESCRIPTION</th>\n",
       "      <th>PROVIDE_ADDITIONAL_DETAILS</th>\n",
       "      <th>FIRST_REPLY_SOLUTION</th>\n",
       "      <th>EXPERT_ASSESSMENT</th>\n",
       "      <th>EXPERT_ASSESSMENT_DESC</th>\n",
       "      <th>EHS_IMPACT</th>\n",
       "      <th>POTENTIAL_FLEET_IMPACT</th>\n",
       "      <th>...</th>\n",
       "      <th>DEFECTIVE_SYSTEM_MATE</th>\n",
       "      <th>PROD_SAFETY</th>\n",
       "      <th>DEFECTIVE_SYSTEM_BACK</th>\n",
       "      <th>DEFECTIVE_GROUP_MATE</th>\n",
       "      <th>EXPECTED_DELIV_PROSOLUTION</th>\n",
       "      <th>RCA_POTENTIAL_FLEET_IMPACT</th>\n",
       "      <th>RCA_EHS_IMPACT</th>\n",
       "      <th>RCA_PROD_SAFETY</th>\n",
       "      <th>RCA_PROD_SAFETY.1</th>\n",
       "      <th>WF_ID</th>\n",
       "    </tr>\n",
       "  </thead>\n",
       "  <tbody>\n",
       "    <tr>\n",
       "      <th>0</th>\n",
       "      <td>90337953</td>\n",
       "      <td>FSE Technical Clarification</td>\n",
       "      <td>test ticket for type of issue FSE technical cl...</td>\n",
       "      <td>test please ignore</td>\n",
       "      <td>NaN</td>\n",
       "      <td>testing upgrade please ignore</td>\n",
       "      <td>NaN</td>\n",
       "      <td>NaN</td>\n",
       "      <td>1</td>\n",
       "      <td>NaN</td>\n",
       "      <td>...</td>\n",
       "      <td>NaN</td>\n",
       "      <td>No</td>\n",
       "      <td>NaN</td>\n",
       "      <td>NaN</td>\n",
       "      <td>Upgrade test</td>\n",
       "      <td>NaN</td>\n",
       "      <td>NaN</td>\n",
       "      <td>NaN</td>\n",
       "      <td>NaN</td>\n",
       "      <td>NaN</td>\n",
       "    </tr>\n",
       "    <tr>\n",
       "      <th>1</th>\n",
       "      <td>90306797</td>\n",
       "      <td>Technical</td>\n",
       "      <td>during the site assembly of interconnection pi...</td>\n",
       "      <td>Defective system technology is partially fille...</td>\n",
       "      <td>to minimize the impact on custoemr schedule of...</td>\n",
       "      <td>NaN</td>\n",
       "      <td>WRONG PART - SUPPLIER MANUFACTURING MISTAKE</td>\n",
       "      <td>Site not able to install the piping for COCE i...</td>\n",
       "      <td>1</td>\n",
       "      <td>1.0</td>\n",
       "      <td>...</td>\n",
       "      <td>NaN</td>\n",
       "      <td>No</td>\n",
       "      <td>NaN</td>\n",
       "      <td>NaN</td>\n",
       "      <td>I agree to ask our customer for site modificat...</td>\n",
       "      <td>NaN</td>\n",
       "      <td>NaN</td>\n",
       "      <td>NaN</td>\n",
       "      <td>NaN</td>\n",
       "      <td>NaN</td>\n",
       "    </tr>\n",
       "    <tr>\n",
       "      <th>2</th>\n",
       "      <td>90300582</td>\n",
       "      <td>Technical</td>\n",
       "      <td>According the line schedule and class RF 150 a...</td>\n",
       "      <td>As per enclosed mail RE SN Service Request 903...</td>\n",
       "      <td>NaN</td>\n",
       "      <td>NaN</td>\n",
       "      <td>WRONG DESIGN/SPECIFICATION/DWG</td>\n",
       "      <td>Case opened to ask the updating of PID  SOM675...</td>\n",
       "      <td>1</td>\n",
       "      <td>1.0</td>\n",
       "      <td>...</td>\n",
       "      <td>NaN</td>\n",
       "      <td>No</td>\n",
       "      <td>NaN</td>\n",
       "      <td>NaN</td>\n",
       "      <td>please make mark up</td>\n",
       "      <td>NaN</td>\n",
       "      <td>NaN</td>\n",
       "      <td>NaN</td>\n",
       "      <td>NaN</td>\n",
       "      <td>NaN</td>\n",
       "    </tr>\n",
       "  </tbody>\n",
       "</table>\n",
       "<p>3 rows × 23 columns</p>\n",
       "</div>"
      ],
      "text/plain": [
       "   CASE_NUMBER          CURRENT_TYPEOFISSUE  \\\n",
       "0     90337953  FSE Technical Clarification   \n",
       "1     90306797                    Technical   \n",
       "2     90300582                    Technical   \n",
       "\n",
       "                                 PROBLEM_DESCRIPTION  \\\n",
       "0  test ticket for type of issue FSE technical cl...   \n",
       "1  during the site assembly of interconnection pi...   \n",
       "2  According the line schedule and class RF 150 a...   \n",
       "\n",
       "                                SOLUTION_DESCRIPTION  \\\n",
       "0                                 test please ignore   \n",
       "1  Defective system technology is partially fille...   \n",
       "2  As per enclosed mail RE SN Service Request 903...   \n",
       "\n",
       "                          PROVIDE_ADDITIONAL_DETAILS  \\\n",
       "0                                                NaN   \n",
       "1  to minimize the impact on custoemr schedule of...   \n",
       "2                                                NaN   \n",
       "\n",
       "            FIRST_REPLY_SOLUTION                            EXPERT_ASSESSMENT  \\\n",
       "0  testing upgrade please ignore                                          NaN   \n",
       "1                            NaN  WRONG PART - SUPPLIER MANUFACTURING MISTAKE   \n",
       "2                            NaN               WRONG DESIGN/SPECIFICATION/DWG   \n",
       "\n",
       "                              EXPERT_ASSESSMENT_DESC  EHS_IMPACT  \\\n",
       "0                                                NaN           1   \n",
       "1  Site not able to install the piping for COCE i...           1   \n",
       "2  Case opened to ask the updating of PID  SOM675...           1   \n",
       "\n",
       "   POTENTIAL_FLEET_IMPACT  ... DEFECTIVE_SYSTEM_MATE PROD_SAFETY  \\\n",
       "0                     NaN  ...                   NaN          No   \n",
       "1                     1.0  ...                   NaN          No   \n",
       "2                     1.0  ...                   NaN          No   \n",
       "\n",
       "  DEFECTIVE_SYSTEM_BACK DEFECTIVE_GROUP_MATE  \\\n",
       "0                   NaN                  NaN   \n",
       "1                   NaN                  NaN   \n",
       "2                   NaN                  NaN   \n",
       "\n",
       "                          EXPECTED_DELIV_PROSOLUTION  \\\n",
       "0                                       Upgrade test   \n",
       "1  I agree to ask our customer for site modificat...   \n",
       "2                                please make mark up   \n",
       "\n",
       "  RCA_POTENTIAL_FLEET_IMPACT RCA_EHS_IMPACT RCA_PROD_SAFETY  \\\n",
       "0                        NaN            NaN             NaN   \n",
       "1                        NaN            NaN             NaN   \n",
       "2                        NaN            NaN             NaN   \n",
       "\n",
       "   RCA_PROD_SAFETY.1  WF_ID  \n",
       "0                NaN    NaN  \n",
       "1                NaN    NaN  \n",
       "2                NaN    NaN  \n",
       "\n",
       "[3 rows x 23 columns]"
      ]
     },
     "execution_count": 17,
     "metadata": {},
     "output_type": "execute_result"
    }
   ],
   "source": [
    "sr_df.head(3)"
   ]
  },
  {
   "cell_type": "code",
   "execution_count": 21,
   "id": "1f09b575-c38c-4eb8-8ec8-b8ed810b0e1d",
   "metadata": {},
   "outputs": [],
   "source": [
    "full_df = pd.concat([reduced_df.set_index('CASE_NUMBER'), sr_df.set_index('CASE_NUMBER')])"
   ]
  },
  {
   "cell_type": "code",
   "execution_count": 22,
   "id": "449dfbf2-05b1-4748-aaa8-a2dedf151ac2",
   "metadata": {},
   "outputs": [
    {
     "data": {
      "text/plain": [
       "(240496, 23)"
      ]
     },
     "execution_count": 22,
     "metadata": {},
     "output_type": "execute_result"
    }
   ],
   "source": [
    "full_df.shape"
   ]
  },
  {
   "cell_type": "code",
   "execution_count": 23,
   "id": "62cbe4ab-640d-45c3-9676-f8e6ee7953c4",
   "metadata": {},
   "outputs": [
    {
     "data": {
      "text/plain": [
       "(165360, 23)"
      ]
     },
     "execution_count": 23,
     "metadata": {},
     "output_type": "execute_result"
    }
   ],
   "source": [
    "full_df = full_df[~full_df.index.duplicated(keep='first')] # I want to keep the last so I'm doing not(first), hopefully\n",
    "full_df.shape"
   ]
  },
  {
   "cell_type": "code",
   "execution_count": 27,
   "id": "f589b02f-fc02-4888-a09d-0e7d700b6e84",
   "metadata": {},
   "outputs": [],
   "source": [
    "full_df.reset_index(inplace=True)"
   ]
  },
  {
   "cell_type": "code",
   "execution_count": 29,
   "id": "f6d62d49-7a66-4838-bdf2-37ff4c4eb227",
   "metadata": {},
   "outputs": [
    {
     "data": {
      "text/plain": [
       "(165360, 24)"
      ]
     },
     "execution_count": 29,
     "metadata": {},
     "output_type": "execute_result"
    }
   ],
   "source": [
    "sr_df = full_df\n",
    "sr_df.shape"
   ]
  },
  {
   "cell_type": "code",
   "execution_count": 30,
   "id": "737f3b9f-c1c9-4ec5-b76c-6ca25f5fea57",
   "metadata": {},
   "outputs": [],
   "source": [
    "case_number_string = 'CASE_NUMBER'\n",
    "columns_dict = {\"C_CASE_NUMBER\": case_number_string,\n",
    "                \"C_DESCRIPTION\": 'PROBLEM_DESCRIPTION',\n",
    "                \"C_SOLUTION\": 'SOLUTION_DESCRIPTION',\n",
    "                \"C_EAD\": 'EXPERT_ASSESSMENT_DESC',\n",
    "                \"C_FR\": 'FIRST_REPLY_SOLUTION'}\n",
    "transformed_df = preprocessingSR(sr_df, **columns_dict)"
   ]
  },
  {
   "cell_type": "code",
   "execution_count": 31,
   "id": "288ff3e7-624f-462b-903b-ebb949f80af2",
   "metadata": {},
   "outputs": [],
   "source": [
    "embeddings_df = obtain_embeddings(transformed_df, case_number=case_number_string)"
   ]
  },
  {
   "cell_type": "code",
   "execution_count": null,
   "id": "7f42ae8a-3d9e-4bf2-8fee-9e83c5363fb7",
   "metadata": {},
   "outputs": [],
   "source": []
  },
  {
   "cell_type": "code",
   "execution_count": 32,
   "id": "7379e616-415d-473f-8643-d50156330676",
   "metadata": {},
   "outputs": [],
   "source": [
    "sr_for_database = pd.concat([sr_df.set_index(columns_dict[\"C_CASE_NUMBER\"]),\n",
    "                             embeddings_df.apply(lambda r: list(r), axis=1).rename('list_of_vectors')],\n",
    "                            axis=1).reset_index().reset_index().rename(\n",
    "    columns={'index': 'ID', 'EXPERT_ASSESSMENT_DESC': 'EXPERT_ASSESSMENT_DESCRIPTION',\n",
    "             'LAST_UPDATED_DATE': 'UPDATE_DATE'})"
   ]
  },
  {
   "cell_type": "code",
   "execution_count": 33,
   "id": "9b1dc3cc-68f7-4980-8452-8d6f72915447",
   "metadata": {},
   "outputs": [],
   "source": [
    "sr_for_database['ID'] = sr_for_database[columns_dict[\"C_CASE_NUMBER\"]]\n",
    "sr_for_database = sr_for_database.set_index('ID')\n",
    "sr_for_database.dropna(subset=['_TEXT_LONG','list_of_vectors'], inplace=True)\n",
    "sr_for_database['VECTOR_MODEL'] = [','.join(map(str, l)) for l in sr_for_database['list_of_vectors']]"
   ]
  },
  {
   "cell_type": "code",
   "execution_count": null,
   "id": "19e21a27-bb78-458c-ae4d-12ddb4db029f",
   "metadata": {},
   "outputs": [],
   "source": []
  },
  {
   "cell_type": "code",
   "execution_count": 34,
   "id": "59583e4a-c205-4bbc-a372-b7fc85ddaac0",
   "metadata": {},
   "outputs": [
    {
     "data": {
      "text/plain": [
       "True"
      ]
     },
     "execution_count": 34,
     "metadata": {},
     "output_type": "execute_result"
    }
   ],
   "source": [
    "sr_for_database.index.dtype == 'int64'"
   ]
  },
  {
   "cell_type": "code",
   "execution_count": 35,
   "id": "cc5fad18-05e4-473a-b4b7-23ce31172bc8",
   "metadata": {},
   "outputs": [],
   "source": [
    "# sr_for_database.index = sr_for_database.index.map(str)"
   ]
  },
  {
   "cell_type": "code",
   "execution_count": 38,
   "id": "5eb32679-ea0b-4eb2-ba90-fc23be2a472e",
   "metadata": {},
   "outputs": [],
   "source": [
    "sr_for_database.to_csv('data/dataset_for_finetuning_2022January.csv')"
   ]
  },
  {
   "cell_type": "code",
   "execution_count": 39,
   "id": "097baa00-39b9-4460-9c89-3bcf482245c4",
   "metadata": {},
   "outputs": [
    {
     "data": {
      "text/plain": [
       "(165359, 28)"
      ]
     },
     "execution_count": 39,
     "metadata": {},
     "output_type": "execute_result"
    }
   ],
   "source": [
    "sr_for_database.shape"
   ]
  },
  {
   "cell_type": "code",
   "execution_count": null,
   "id": "a4e6d889-aa43-4584-a63c-a739360b1b2d",
   "metadata": {},
   "outputs": [],
   "source": []
  },
  {
   "cell_type": "markdown",
   "id": "e5236ec9-1837-474b-ae73-e8e6cb19d8fc",
   "metadata": {},
   "source": [
    "## Various debugging"
   ]
  },
  {
   "cell_type": "code",
   "execution_count": 7,
   "id": "2ec7c408-f354-4533-8384-b7ba3919c8c6",
   "metadata": {},
   "outputs": [
    {
     "name": "stderr",
     "output_type": "stream",
     "text": [
      "/workspace/chiara/2012_AK_SR_prod/2012_AK_SR_repository/servicerequestslib/model_fine_tuning.py:65: SettingWithCopyWarning: \n",
      "A value is trying to be set on a copy of a slice from a DataFrame.\n",
      "Try using .loc[row_indexer,col_indexer] = value instead\n",
      "\n",
      "See the caveats in the documentation: https://pandas.pydata.org/pandas-docs/stable/user_guide/indexing.html#returning-a-view-versus-a-copy\n",
      "  feedbacks['label'] = feedbacks[feedback_column].map(assess_dictionary)\n",
      "/usr/local/lib/python3.8/dist-packages/pandas/core/frame.py:5039: SettingWithCopyWarning: \n",
      "A value is trying to be set on a copy of a slice from a DataFrame\n",
      "\n",
      "See the caveats in the documentation: https://pandas.pydata.org/pandas-docs/stable/user_guide/indexing.html#returning-a-view-versus-a-copy\n",
      "  return super().rename(\n"
     ]
    }
   ],
   "source": [
    "new_data = feedbacks\n",
    "sr_df = sr_for_database\n",
    "\n",
    "sr_feedbacks = new_data[new_data['Search Key'].apply(lambda x: (len(str(x)) == 8 and str(x).isdigit()))]\n",
    "text_feedbacks = new_data[new_data['Search Key'].apply(lambda x: not (len(str(x)) == 8 and str(x).isdigit()))]\n",
    "\n",
    "sr_dataset = sr_data_preparation(sr_feedbacks)\n",
    "text_dataset = text_data_preparation(text_feedbacks)\n",
    "\n",
    "sr_dataset['query_type'] = 'SR'\n",
    "text_dataset['query_type'] = 'text'"
   ]
  },
  {
   "cell_type": "code",
   "execution_count": 8,
   "id": "0399eed1-3afd-4080-b17e-e477f8c1fa01",
   "metadata": {},
   "outputs": [],
   "source": [
    "sr_dataset['reference'] = sr_dataset['reference'].astype('int64')"
   ]
  },
  {
   "cell_type": "code",
   "execution_count": 9,
   "id": "5afe682c-e00e-4977-aeb2-9428f1ad80e5",
   "metadata": {},
   "outputs": [],
   "source": [
    "assert sr_dataset['tested_case_number'].dtype == 'int64'\n",
    "assert sr_dataset['reference'].dtype == 'int64'\n",
    "assert text_dataset['tested_case_number'].dtype == 'int64'"
   ]
  },
  {
   "cell_type": "code",
   "execution_count": 10,
   "id": "c17d0f5e-f748-4242-bbfa-03cadc1cfc57",
   "metadata": {},
   "outputs": [],
   "source": [
    "dataset = pd.concat([sr_dataset, text_dataset])"
   ]
  },
  {
   "cell_type": "code",
   "execution_count": 11,
   "id": "58f27dac-2299-4247-a9c4-ee89ce19e7ac",
   "metadata": {},
   "outputs": [
    {
     "data": {
      "text/html": [
       "<div>\n",
       "<style scoped>\n",
       "    .dataframe tbody tr th:only-of-type {\n",
       "        vertical-align: middle;\n",
       "    }\n",
       "\n",
       "    .dataframe tbody tr th {\n",
       "        vertical-align: top;\n",
       "    }\n",
       "\n",
       "    .dataframe thead th {\n",
       "        text-align: right;\n",
       "    }\n",
       "</style>\n",
       "<table border=\"1\" class=\"dataframe\">\n",
       "  <thead>\n",
       "    <tr style=\"text-align: right;\">\n",
       "      <th></th>\n",
       "      <th>tested_case_number</th>\n",
       "      <th>reference</th>\n",
       "      <th>label</th>\n",
       "      <th>query_type</th>\n",
       "    </tr>\n",
       "  </thead>\n",
       "  <tbody>\n",
       "    <tr>\n",
       "      <th>161</th>\n",
       "      <td>90399347</td>\n",
       "      <td>90374304</td>\n",
       "      <td>0.7</td>\n",
       "      <td>SR</td>\n",
       "    </tr>\n",
       "    <tr>\n",
       "      <th>162</th>\n",
       "      <td>90381634</td>\n",
       "      <td>90374304</td>\n",
       "      <td>0.7</td>\n",
       "      <td>SR</td>\n",
       "    </tr>\n",
       "    <tr>\n",
       "      <th>163</th>\n",
       "      <td>90412146</td>\n",
       "      <td>90374304</td>\n",
       "      <td>0.7</td>\n",
       "      <td>SR</td>\n",
       "    </tr>\n",
       "    <tr>\n",
       "      <th>164</th>\n",
       "      <td>90382263</td>\n",
       "      <td>90374304</td>\n",
       "      <td>0.7</td>\n",
       "      <td>SR</td>\n",
       "    </tr>\n",
       "    <tr>\n",
       "      <th>165</th>\n",
       "      <td>90372363</td>\n",
       "      <td>90374304</td>\n",
       "      <td>0.7</td>\n",
       "      <td>SR</td>\n",
       "    </tr>\n",
       "    <tr>\n",
       "      <th>...</th>\n",
       "      <td>...</td>\n",
       "      <td>...</td>\n",
       "      <td>...</td>\n",
       "      <td>...</td>\n",
       "    </tr>\n",
       "    <tr>\n",
       "      <th>162</th>\n",
       "      <td>90390503</td>\n",
       "      <td>we have found sikaflex cartridges expired</td>\n",
       "      <td>0.7</td>\n",
       "      <td>text</td>\n",
       "    </tr>\n",
       "    <tr>\n",
       "      <th>163</th>\n",
       "      <td>90376435</td>\n",
       "      <td>we have found sikaflex cartridges expired</td>\n",
       "      <td>0.7</td>\n",
       "      <td>text</td>\n",
       "    </tr>\n",
       "    <tr>\n",
       "      <th>164</th>\n",
       "      <td>90398921</td>\n",
       "      <td>we have found sikaflex cartridges expired</td>\n",
       "      <td>0.7</td>\n",
       "      <td>text</td>\n",
       "    </tr>\n",
       "    <tr>\n",
       "      <th>165</th>\n",
       "      <td>90411005</td>\n",
       "      <td>we have found sikaflex cartridges expired</td>\n",
       "      <td>0.7</td>\n",
       "      <td>text</td>\n",
       "    </tr>\n",
       "    <tr>\n",
       "      <th>166</th>\n",
       "      <td>90391094</td>\n",
       "      <td>we have found sikaflex cartridges expired</td>\n",
       "      <td>0.7</td>\n",
       "      <td>text</td>\n",
       "    </tr>\n",
       "  </tbody>\n",
       "</table>\n",
       "<p>300 rows × 4 columns</p>\n",
       "</div>"
      ],
      "text/plain": [
       "     tested_case_number                                  reference  label  \\\n",
       "161            90399347                                   90374304    0.7   \n",
       "162            90381634                                   90374304    0.7   \n",
       "163            90412146                                   90374304    0.7   \n",
       "164            90382263                                   90374304    0.7   \n",
       "165            90372363                                   90374304    0.7   \n",
       "..                  ...                                        ...    ...   \n",
       "162            90390503  we have found sikaflex cartridges expired    0.7   \n",
       "163            90376435  we have found sikaflex cartridges expired    0.7   \n",
       "164            90398921  we have found sikaflex cartridges expired    0.7   \n",
       "165            90411005  we have found sikaflex cartridges expired    0.7   \n",
       "166            90391094  we have found sikaflex cartridges expired    0.7   \n",
       "\n",
       "    query_type  \n",
       "161         SR  \n",
       "162         SR  \n",
       "163         SR  \n",
       "164         SR  \n",
       "165         SR  \n",
       "..         ...  \n",
       "162       text  \n",
       "163       text  \n",
       "164       text  \n",
       "165       text  \n",
       "166       text  \n",
       "\n",
       "[300 rows x 4 columns]"
      ]
     },
     "execution_count": 11,
     "metadata": {},
     "output_type": "execute_result"
    }
   ],
   "source": [
    "dataset.tail(300)"
   ]
  },
  {
   "cell_type": "code",
   "execution_count": 12,
   "id": "d400ce11-5a46-4555-85d2-93439aede88a",
   "metadata": {},
   "outputs": [],
   "source": [
    "from sklearn.model_selection import train_test_split\n",
    "X_train, X_test, y_train, y_test = train_test_split(dataset[['tested_case_number', 'reference', 'query_type']],\n",
    "                                                    dataset['label'], test_size=0.2, shuffle=True)"
   ]
  },
  {
   "cell_type": "code",
   "execution_count": 13,
   "id": "353ec405-cf64-41e5-8c6d-f6fc22626bae",
   "metadata": {},
   "outputs": [
    {
     "data": {
      "text/html": [
       "<div>\n",
       "<style scoped>\n",
       "    .dataframe tbody tr th:only-of-type {\n",
       "        vertical-align: middle;\n",
       "    }\n",
       "\n",
       "    .dataframe tbody tr th {\n",
       "        vertical-align: top;\n",
       "    }\n",
       "\n",
       "    .dataframe thead th {\n",
       "        text-align: right;\n",
       "    }\n",
       "</style>\n",
       "<table border=\"1\" class=\"dataframe\">\n",
       "  <thead>\n",
       "    <tr style=\"text-align: right;\">\n",
       "      <th></th>\n",
       "      <th>tested_case_number</th>\n",
       "      <th>reference</th>\n",
       "      <th>query_type</th>\n",
       "    </tr>\n",
       "  </thead>\n",
       "  <tbody>\n",
       "    <tr>\n",
       "      <th>12</th>\n",
       "      <td>90388384</td>\n",
       "      <td>wrong or defective rotor locking device</td>\n",
       "      <td>text</td>\n",
       "    </tr>\n",
       "    <tr>\n",
       "      <th>115</th>\n",
       "      <td>90400696</td>\n",
       "      <td>problems related mechanical seal</td>\n",
       "      <td>text</td>\n",
       "    </tr>\n",
       "    <tr>\n",
       "      <th>160</th>\n",
       "      <td>90372505</td>\n",
       "      <td>we have found sikaflex cartridges expired</td>\n",
       "      <td>text</td>\n",
       "    </tr>\n",
       "    <tr>\n",
       "      <th>85</th>\n",
       "      <td>90383829</td>\n",
       "      <td>issues related valves</td>\n",
       "      <td>text</td>\n",
       "    </tr>\n",
       "    <tr>\n",
       "      <th>46</th>\n",
       "      <td>90417299</td>\n",
       "      <td>IGV actuator wrong size</td>\n",
       "      <td>text</td>\n",
       "    </tr>\n",
       "  </tbody>\n",
       "</table>\n",
       "</div>"
      ],
      "text/plain": [
       "     tested_case_number                                  reference query_type\n",
       "12             90388384    wrong or defective rotor locking device       text\n",
       "115            90400696           problems related mechanical seal       text\n",
       "160            90372505  we have found sikaflex cartridges expired       text\n",
       "85             90383829                      issues related valves       text\n",
       "46             90417299                    IGV actuator wrong size       text"
      ]
     },
     "execution_count": 13,
     "metadata": {},
     "output_type": "execute_result"
    }
   ],
   "source": [
    "X_test[X_test['query_type'] == 'text'].head()"
   ]
  },
  {
   "cell_type": "code",
   "execution_count": 14,
   "id": "82c105f9-983c-46f7-95fa-43d1cb4e423b",
   "metadata": {},
   "outputs": [
    {
     "data": {
      "text/html": [
       "<div>\n",
       "<style scoped>\n",
       "    .dataframe tbody tr th:only-of-type {\n",
       "        vertical-align: middle;\n",
       "    }\n",
       "\n",
       "    .dataframe tbody tr th {\n",
       "        vertical-align: top;\n",
       "    }\n",
       "\n",
       "    .dataframe thead th {\n",
       "        text-align: right;\n",
       "    }\n",
       "</style>\n",
       "<table border=\"1\" class=\"dataframe\">\n",
       "  <thead>\n",
       "    <tr style=\"text-align: right;\">\n",
       "      <th></th>\n",
       "      <th>tested_case_number</th>\n",
       "      <th>reference</th>\n",
       "      <th>query_type</th>\n",
       "    </tr>\n",
       "  </thead>\n",
       "  <tbody>\n",
       "    <tr>\n",
       "      <th>1757</th>\n",
       "      <td>90388380</td>\n",
       "      <td>90358292</td>\n",
       "      <td>SR</td>\n",
       "    </tr>\n",
       "    <tr>\n",
       "      <th>2404</th>\n",
       "      <td>90386951</td>\n",
       "      <td>90374496</td>\n",
       "      <td>SR</td>\n",
       "    </tr>\n",
       "    <tr>\n",
       "      <th>512</th>\n",
       "      <td>90345719</td>\n",
       "      <td>90330616</td>\n",
       "      <td>SR</td>\n",
       "    </tr>\n",
       "    <tr>\n",
       "      <th>2870</th>\n",
       "      <td>90283214</td>\n",
       "      <td>90339353</td>\n",
       "      <td>SR</td>\n",
       "    </tr>\n",
       "    <tr>\n",
       "      <th>2006</th>\n",
       "      <td>90259115</td>\n",
       "      <td>90333903</td>\n",
       "      <td>SR</td>\n",
       "    </tr>\n",
       "    <tr>\n",
       "      <th>...</th>\n",
       "      <td>...</td>\n",
       "      <td>...</td>\n",
       "      <td>...</td>\n",
       "    </tr>\n",
       "    <tr>\n",
       "      <th>2069</th>\n",
       "      <td>90327380</td>\n",
       "      <td>90392437</td>\n",
       "      <td>SR</td>\n",
       "    </tr>\n",
       "    <tr>\n",
       "      <th>3442</th>\n",
       "      <td>90229622</td>\n",
       "      <td>90307546</td>\n",
       "      <td>SR</td>\n",
       "    </tr>\n",
       "    <tr>\n",
       "      <th>881</th>\n",
       "      <td>90377590</td>\n",
       "      <td>90381045</td>\n",
       "      <td>SR</td>\n",
       "    </tr>\n",
       "    <tr>\n",
       "      <th>481</th>\n",
       "      <td>90248141</td>\n",
       "      <td>90330616</td>\n",
       "      <td>SR</td>\n",
       "    </tr>\n",
       "    <tr>\n",
       "      <th>5270</th>\n",
       "      <td>90396719</td>\n",
       "      <td>90388156</td>\n",
       "      <td>SR</td>\n",
       "    </tr>\n",
       "  </tbody>\n",
       "</table>\n",
       "<p>1129 rows × 3 columns</p>\n",
       "</div>"
      ],
      "text/plain": [
       "      tested_case_number reference query_type\n",
       "1757            90388380  90358292         SR\n",
       "2404            90386951  90374496         SR\n",
       "512             90345719  90330616         SR\n",
       "2870            90283214  90339353         SR\n",
       "2006            90259115  90333903         SR\n",
       "...                  ...       ...        ...\n",
       "2069            90327380  90392437         SR\n",
       "3442            90229622  90307546         SR\n",
       "881             90377590  90381045         SR\n",
       "481             90248141  90330616         SR\n",
       "5270            90396719  90388156         SR\n",
       "\n",
       "[1129 rows x 3 columns]"
      ]
     },
     "execution_count": 14,
     "metadata": {},
     "output_type": "execute_result"
    }
   ],
   "source": [
    "X_test[X_test['query_type'] == 'SR']"
   ]
  },
  {
   "cell_type": "code",
   "execution_count": 17,
   "id": "69dd99ab-4b3b-4df9-82ac-2418633fa577",
   "metadata": {},
   "outputs": [
    {
     "data": {
      "text/html": [
       "<div>\n",
       "<style scoped>\n",
       "    .dataframe tbody tr th:only-of-type {\n",
       "        vertical-align: middle;\n",
       "    }\n",
       "\n",
       "    .dataframe tbody tr th {\n",
       "        vertical-align: top;\n",
       "    }\n",
       "\n",
       "    .dataframe thead th {\n",
       "        text-align: right;\n",
       "    }\n",
       "</style>\n",
       "<table border=\"1\" class=\"dataframe\">\n",
       "  <thead>\n",
       "    <tr style=\"text-align: right;\">\n",
       "      <th></th>\n",
       "      <th>tested_case_number</th>\n",
       "      <th>reference</th>\n",
       "      <th>query_type</th>\n",
       "      <th>label</th>\n",
       "    </tr>\n",
       "  </thead>\n",
       "  <tbody>\n",
       "    <tr>\n",
       "      <th>1757</th>\n",
       "      <td>90388380</td>\n",
       "      <td>90358292</td>\n",
       "      <td>SR</td>\n",
       "      <td>0.3</td>\n",
       "    </tr>\n",
       "    <tr>\n",
       "      <th>2404</th>\n",
       "      <td>90386951</td>\n",
       "      <td>90374496</td>\n",
       "      <td>SR</td>\n",
       "      <td>0.9</td>\n",
       "    </tr>\n",
       "    <tr>\n",
       "      <th>512</th>\n",
       "      <td>90345719</td>\n",
       "      <td>90330616</td>\n",
       "      <td>SR</td>\n",
       "      <td>0.3</td>\n",
       "    </tr>\n",
       "    <tr>\n",
       "      <th>2870</th>\n",
       "      <td>90283214</td>\n",
       "      <td>90339353</td>\n",
       "      <td>SR</td>\n",
       "      <td>0.3</td>\n",
       "    </tr>\n",
       "    <tr>\n",
       "      <th>2006</th>\n",
       "      <td>90259115</td>\n",
       "      <td>90333903</td>\n",
       "      <td>SR</td>\n",
       "      <td>0.3</td>\n",
       "    </tr>\n",
       "    <tr>\n",
       "      <th>...</th>\n",
       "      <td>...</td>\n",
       "      <td>...</td>\n",
       "      <td>...</td>\n",
       "      <td>...</td>\n",
       "    </tr>\n",
       "    <tr>\n",
       "      <th>2069</th>\n",
       "      <td>90327380</td>\n",
       "      <td>90392437</td>\n",
       "      <td>SR</td>\n",
       "      <td>0.3</td>\n",
       "    </tr>\n",
       "    <tr>\n",
       "      <th>3442</th>\n",
       "      <td>90229622</td>\n",
       "      <td>90307546</td>\n",
       "      <td>SR</td>\n",
       "      <td>0.3</td>\n",
       "    </tr>\n",
       "    <tr>\n",
       "      <th>881</th>\n",
       "      <td>90377590</td>\n",
       "      <td>90381045</td>\n",
       "      <td>SR</td>\n",
       "      <td>0.9</td>\n",
       "    </tr>\n",
       "    <tr>\n",
       "      <th>481</th>\n",
       "      <td>90248141</td>\n",
       "      <td>90330616</td>\n",
       "      <td>SR</td>\n",
       "      <td>0.3</td>\n",
       "    </tr>\n",
       "    <tr>\n",
       "      <th>5270</th>\n",
       "      <td>90396719</td>\n",
       "      <td>90388156</td>\n",
       "      <td>SR</td>\n",
       "      <td>0.7</td>\n",
       "    </tr>\n",
       "  </tbody>\n",
       "</table>\n",
       "<p>1159 rows × 4 columns</p>\n",
       "</div>"
      ],
      "text/plain": [
       "      tested_case_number reference query_type  label\n",
       "1757            90388380  90358292         SR    0.3\n",
       "2404            90386951  90374496         SR    0.9\n",
       "512             90345719  90330616         SR    0.3\n",
       "2870            90283214  90339353         SR    0.3\n",
       "2006            90259115  90333903         SR    0.3\n",
       "...                  ...       ...        ...    ...\n",
       "2069            90327380  90392437         SR    0.3\n",
       "3442            90229622  90307546         SR    0.3\n",
       "881             90377590  90381045         SR    0.9\n",
       "481             90248141  90330616         SR    0.3\n",
       "5270            90396719  90388156         SR    0.7\n",
       "\n",
       "[1159 rows x 4 columns]"
      ]
     },
     "execution_count": 17,
     "metadata": {},
     "output_type": "execute_result"
    }
   ],
   "source": [
    "pd.concat([X_test, y_test], axis=1)"
   ]
  },
  {
   "cell_type": "code",
   "execution_count": 19,
   "id": "ff72e3f9-2d73-4ad2-9b47-2f86bb52be4e",
   "metadata": {},
   "outputs": [],
   "source": [
    "X_copy = X_test.dropna().copy()"
   ]
  },
  {
   "cell_type": "code",
   "execution_count": 16,
   "id": "0bfce194-ab7f-47b3-ae19-5f1bbfb5c37c",
   "metadata": {},
   "outputs": [],
   "source": [
    "X_test_case_numbers = X_test[X_test['query_type'] == 'SR']\n",
    "X_test_free_text = X_test[X_test['query_type'] == 'text']\n",
    "\n",
    "test_case_numbers = list(set(X_test['tested_case_number'].unique()) | set(X_test_case_numbers['reference'].unique()))\n",
    "test_free_texts = list(set(X_test_free_text['reference'].unique()))"
   ]
  },
  {
   "cell_type": "code",
   "execution_count": 17,
   "id": "149a5961-35b5-4633-a412-e03e49503cd6",
   "metadata": {},
   "outputs": [
    {
     "data": {
      "text/plain": [
       "[90353664, 90384390, 90255370, 90402832]"
      ]
     },
     "execution_count": 17,
     "metadata": {},
     "output_type": "execute_result"
    }
   ],
   "source": [
    "test_case_numbers[:4]"
   ]
  },
  {
   "cell_type": "code",
   "execution_count": 101,
   "id": "a7cd9513-7f21-4468-8698-ee5705b20ec9",
   "metadata": {},
   "outputs": [
    {
     "data": {
      "text/plain": [
       "['missing dowel pins',\n",
       " 'During the installation of simplex emergency oil filter RF 35792 site found discrepancy between the pressure rating of filter  (ref. SR 90353323)',\n",
       " 'sikaflex expired',\n",
       " 'wrong or defective rotor locking device',\n",
       " 'defective self closing gate ',\n",
       " 'problems related mechanical seal',\n",
       " 'As per document SOM6770802  page 10 N2 accumulator  skid refilling valve, pressure gage and complete kit are missing ,As per drawing show that it was suppose to be supply in 1 set per station, but we could not found the ITEM in BOM and PL.. Pls check this ITEM as urgent basis as GE already supply or not, If not then we have to asked to supply complete set of N2 refilling Kit. Case opened because the pre-charging kit of the LUBE OIL ACCUMULATOR SKID - refer to the BHGE P&ID - SOM6770802, sheet 10, tag Z-22-114 - resulted missed in site. Looking into the project BOM and into the specification RA-01901 there is not any mention about the pre-charging kit. Looking also the P&ID - SOM6770802, sheet 10, notes 26, 30 and the orientation for MP162A there is not clarity about the way to supply the mentioned kit For what above reported, the imputation is assigned to ENG.. Looking into the BHGE specification RA-01901 - ACCUMULATOR SPECIFICATION and into the project global BOM I have not found any reference to the CHARGING KIT. Site Team will provide a mark-up to update the following documents: 1 - SOM6770802, sheet 10 -- > modify the position for MP162A in order to include the kit into BHGE scope of supply; 2 - RA-01901, sheet 3 -- > inlcude the kit into the ACCUMULATOR SKID scope of supply. @ OIL & GAS GLOBAL Material SOS COE It is necessary to procure N°1 LUBE OIL ACCUMULATOR CHARGING KIT as indicated into the P&ID - SOM6770802, sheet 10 contacting the Supplier of the ACCUMULATOR SKID: 440096013 - PARKER HANNIFIN ITALY SRL Please to keep in contact with Mrs.Carla Gagliardi (cgagliardi@parker.com) who is just awared about the issue – refer to the enclosed mail \"Re  SN Service Request 90336126 - PO 440096013 - RAO01901 - PARKER HANNIFIN ITALY SRL\" ',\n",
       " 'issues related antisurge valves',\n",
       " 'issues related valves',\n",
       " \"BH control FSE operated a T31 GS01 30' ball valve with differential pressure higher than allowed\",\n",
       " 'found broken shear pins',\n",
       " 'seal gas heater logic modification',\n",
       " 'order  N2  charging kit  for the Accumulators  ',\n",
       " 'incomplete gas generator dress up',\n",
       " 'we have found sikaflex cartridges expired']"
      ]
     },
     "execution_count": 101,
     "metadata": {},
     "output_type": "execute_result"
    }
   ],
   "source": [
    "test_free_texts"
   ]
  },
  {
   "cell_type": "code",
   "execution_count": 18,
   "id": "42a381a2-8d34-4a19-b4e7-ce3897ee4177",
   "metadata": {},
   "outputs": [],
   "source": [
    "text_column = '_TEXT_LONG'"
   ]
  },
  {
   "cell_type": "code",
   "execution_count": null,
   "id": "7f26a17c-a1ab-4a07-ab8a-57511899255f",
   "metadata": {},
   "outputs": [],
   "source": [
    "# sentences = sr_for_database.reindex(test_case_numbers[:7]).dropna(subset=[text_column])[text_column].to_list()"
   ]
  },
  {
   "cell_type": "code",
   "execution_count": 20,
   "id": "4538ac45-70fa-41de-80fb-0ceec591640f",
   "metadata": {},
   "outputs": [],
   "source": [
    "retrieved_sentences = sr_for_database.reindex(test_case_numbers).dropna(subset=[text_column])"
   ]
  },
  {
   "cell_type": "code",
   "execution_count": 27,
   "id": "2bf345d8-42fb-4258-9812-4675d9398422",
   "metadata": {},
   "outputs": [],
   "source": [
    "sentences = retrieved_sentences[text_column].to_list()\n",
    "sentences_index = retrieved_sentences.index.to_list()\n",
    "sentences.extend(test_free_texts)\n",
    "sentences_index.extend(test_free_texts)\n",
    "\n",
    "sentences_series = pd.Series(sentences, index = sentences_index)"
   ]
  },
  {
   "cell_type": "code",
   "execution_count": 28,
   "id": "2371d13c-9e0c-4804-9716-a151b951b6cf",
   "metadata": {},
   "outputs": [
    {
     "data": {
      "text/plain": [
       "90353664                                     Parts Missing in BoM before the shipment. Afte...\n",
       "90384390                                     Platform P54 Mario Pinheiro mariodpinheiropetr...\n",
       "90384400                                     The Bentley Nevada 3500 Rack Alarm Description...\n",
       "90339353                                     After alignment completion must be require ins...\n",
       "90382362                                     This SR has to be addressed to Mr Stefano Barb...\n",
       "                                                                   ...                        \n",
       "we have found sikaflex cartridges expired            we have found sikaflex cartridges expired\n",
       "wrong or defective rotor locking device                wrong or defective rotor locking device\n",
       "found broken shear pins                                                found broken shear pins\n",
       "contaminated DGS                                                              contaminated DGS\n",
       "missing dowel pins                                                          missing dowel pins\n",
       "Length: 529, dtype: object"
      ]
     },
     "execution_count": 28,
     "metadata": {},
     "output_type": "execute_result"
    }
   ],
   "source": [
    "sentences_series"
   ]
  },
  {
   "cell_type": "code",
   "execution_count": 34,
   "id": "8745b956-32b6-41eb-92f8-cc3f2ffa3776",
   "metadata": {},
   "outputs": [
    {
     "data": {
      "text/plain": [
       "Index([                                                                                          90353664,\n",
       "                                                                                                 90384390,\n",
       "                                                                                                 90384400,\n",
       "                                                                                                 90339353,\n",
       "                                                                                                 90382362,\n",
       "                                                                                                 90335258,\n",
       "                                                                                                 90361887,\n",
       "                                                                                                 90337324,\n",
       "                                                                                                 90351672,\n",
       "                                                                                                 90366009,\n",
       "       ...\n",
       "                                                                                  'issues related valves',\n",
       "                                                                                'IGV actuator wrong size',\n",
       "                                                                       'problems related mechanical seal',\n",
       "                                                                      'we found issues on energized seal',\n",
       "       'BH control FSE operated a T31 GS01 30' ball valve with differential pressure higher than allowed',\n",
       "                                                              'we have found sikaflex cartridges expired',\n",
       "                                                                'wrong or defective rotor locking device',\n",
       "                                                                                'found broken shear pins',\n",
       "                                                                                       'contaminated DGS',\n",
       "                                                                                     'missing dowel pins'],\n",
       "      dtype='object', length=529)"
      ]
     },
     "execution_count": 34,
     "metadata": {},
     "output_type": "execute_result"
    }
   ],
   "source": [
    "sentences_series.index"
   ]
  },
  {
   "cell_type": "code",
   "execution_count": 106,
   "id": "8c5c6ad9-9a91-4bb8-a59c-369a6b9f7c21",
   "metadata": {},
   "outputs": [],
   "source": [
    "sentences.extend(test_free_texts)"
   ]
  },
  {
   "cell_type": "code",
   "execution_count": null,
   "id": "db91b571-d9c2-42f3-aa3f-43447c2f2e50",
   "metadata": {},
   "outputs": [],
   "source": []
  },
  {
   "cell_type": "code",
   "execution_count": 24,
   "id": "866605a1-4ce7-4443-9803-6ccc04141520",
   "metadata": {},
   "outputs": [
    {
     "data": {
      "text/plain": [
       "SR      4509\n",
       "text     126\n",
       "Name: query_type, dtype: int64"
      ]
     },
     "execution_count": 24,
     "metadata": {},
     "output_type": "execute_result"
    }
   ],
   "source": [
    "X_train['query_type'].value_counts()"
   ]
  },
  {
   "cell_type": "code",
   "execution_count": 29,
   "id": "d177f7a7-41bc-45ad-8729-e22f5ac4942f",
   "metadata": {},
   "outputs": [
    {
     "name": "stdout",
     "output_type": "stream",
     "text": [
      "text\n",
      "SR\n",
      "SR\n",
      "SR\n",
      "SR\n",
      "SR\n",
      "SR\n",
      "SR\n",
      "SR\n",
      "SR\n"
     ]
    }
   ],
   "source": [
    "list(set(X_test['tested_case_number'].unique()) | set(X_test['reference'].unique()))"
   ]
  },
  {
   "cell_type": "code",
   "execution_count": 31,
   "id": "3b962ec1-8644-45e3-a1c0-d8b757599057",
   "metadata": {},
   "outputs": [
    {
     "data": {
      "text/plain": [
       "tested_case_number    90323600\n",
       "reference             90384615\n",
       "query_type                  SR\n",
       "Name: 947, dtype: object"
      ]
     },
     "execution_count": 31,
     "metadata": {},
     "output_type": "execute_result"
    }
   ],
   "source": [
    "row"
   ]
  },
  {
   "cell_type": "code",
   "execution_count": 35,
   "id": "309ddca2-7454-4ee7-9169-549ef37d593e",
   "metadata": {},
   "outputs": [
    {
     "data": {
      "text/plain": [
       "90384615"
      ]
     },
     "execution_count": 35,
     "metadata": {},
     "output_type": "execute_result"
    }
   ],
   "source": [
    "row['reference']"
   ]
  },
  {
   "cell_type": "code",
   "execution_count": 36,
   "id": "c649d179-4521-471e-8483-9653507b4247",
   "metadata": {},
   "outputs": [
    {
     "data": {
      "text/plain": [
       "'MEWAHOLEO URGENT These are the parts to be procured to work on the Flame Out issue Please proceed procurement on urgent basis 1\\\\tStaging valves REO059350010 qty 6 2\\\\tBurner SMO88020 qty 18 3\\\\tGaskets RAO04649 qty 18 4\\\\tScrews GFK09031 qty 144 5\\\\tFitting 38 14 RCR46023 qty 18 6\\\\tFitting 38 38 RCR46024 qty 18.'"
      ]
     },
     "execution_count": 36,
     "metadata": {},
     "output_type": "execute_result"
    }
   ],
   "source": [
    "text_column = '_TEXT_LONG'\n",
    "sr_df[text_column].loc['90390087']"
   ]
  },
  {
   "cell_type": "code",
   "execution_count": 30,
   "id": "afe972e5-6c82-4d58-b363-e3f0f6d80e1c",
   "metadata": {},
   "outputs": [
    {
     "name": "stdout",
     "output_type": "stream",
     "text": [
      "type text\n",
      "type SR\n",
      "type SR\n",
      "type SR\n",
      "type SR\n",
      "type SR\n",
      "type SR\n",
      "type SR\n",
      "type SR\n",
      "type SR\n"
     ]
    }
   ],
   "source": [
    "train_examples = []\n",
    "for index, row in X_train.tail(10).iterrows():\n",
    "    if row['query_type']=='SR':\n",
    "        print('type SR')\n",
    "        try:\n",
    "            first_sentence = sr_df[text_column].loc[row['reference']]\n",
    "            second_sentence = sr_df[text_column].loc[row['tested_case_number']]\n",
    "            sample = InputExample(texts=[first_sentence, second_sentence],\n",
    "                                  label=float(y_train.loc[index]))\n",
    "            train_examples.append(sample)\n",
    "        except:\n",
    "            pass\n",
    "    elif row['query_type']=='text':\n",
    "        print('type text')\n",
    "        try:\n",
    "            first_sentence = row['reference']\n",
    "            second_sentence = sr_df[text_column].loc[row['tested_case_number']]\n",
    "            sample = InputExample(texts=[first_sentence, second_sentence],\n",
    "                                  label=float(y_train.loc[index])-0.1)\n",
    "            train_examples.append(sample)\n",
    "        except:\n",
    "            pass"
   ]
  },
  {
   "cell_type": "code",
   "execution_count": null,
   "id": "b0cd2bcd-35bb-4cdb-8900-7765e9d02ad2",
   "metadata": {},
   "outputs": [],
   "source": []
  },
  {
   "cell_type": "code",
   "execution_count": null,
   "id": "61ad9a62-d5bc-46c3-8c2c-03b507a54509",
   "metadata": {},
   "outputs": [],
   "source": []
  },
  {
   "cell_type": "code",
   "execution_count": null,
   "id": "768499cd-88d9-4123-ac8b-8498ba34f5e3",
   "metadata": {},
   "outputs": [],
   "source": []
  },
  {
   "cell_type": "code",
   "execution_count": null,
   "id": "d77c8d9e-b5da-4635-9be8-90724e6b9a1e",
   "metadata": {},
   "outputs": [],
   "source": []
  },
  {
   "cell_type": "code",
   "execution_count": 9,
   "id": "df29e8dd-b03e-4e72-982f-ea77cd3bcb31",
   "metadata": {},
   "outputs": [],
   "source": [
    "df1 = collect_old_data()\n",
    "df2 = collect_UAT_data()"
   ]
  },
  {
   "cell_type": "code",
   "execution_count": 11,
   "id": "e31316f8-ca58-4154-927c-c0cd5b2a3d3e",
   "metadata": {},
   "outputs": [
    {
     "data": {
      "text/plain": [
       "(5305, 3)"
      ]
     },
     "execution_count": 11,
     "metadata": {},
     "output_type": "execute_result"
    }
   ],
   "source": [
    "df1.shape"
   ]
  },
  {
   "cell_type": "code",
   "execution_count": 12,
   "id": "07cbfd37-b821-43fa-b2b1-357a4834e1de",
   "metadata": {},
   "outputs": [
    {
     "data": {
      "text/plain": [
       "(28, 3)"
      ]
     },
     "execution_count": 12,
     "metadata": {},
     "output_type": "execute_result"
    }
   ],
   "source": [
    "df2.shape"
   ]
  },
  {
   "cell_type": "code",
   "execution_count": 7,
   "id": "45b64343-8a79-427d-8554-ae3c5cdc1263",
   "metadata": {},
   "outputs": [
    {
     "data": {
      "text/html": [
       "<div>\n",
       "<style scoped>\n",
       "    .dataframe tbody tr th:only-of-type {\n",
       "        vertical-align: middle;\n",
       "    }\n",
       "\n",
       "    .dataframe tbody tr th {\n",
       "        vertical-align: top;\n",
       "    }\n",
       "\n",
       "    .dataframe thead th {\n",
       "        text-align: right;\n",
       "    }\n",
       "</style>\n",
       "<table border=\"1\" class=\"dataframe\">\n",
       "  <thead>\n",
       "    <tr style=\"text-align: right;\">\n",
       "      <th></th>\n",
       "      <th>u_case_number</th>\n",
       "      <th>reference</th>\n",
       "      <th>label</th>\n",
       "    </tr>\n",
       "  </thead>\n",
       "  <tbody>\n",
       "    <tr>\n",
       "      <th>23</th>\n",
       "      <td>90377579</td>\n",
       "      <td>90373663</td>\n",
       "      <td>0.9</td>\n",
       "    </tr>\n",
       "    <tr>\n",
       "      <th>24</th>\n",
       "      <td>90411642</td>\n",
       "      <td>90373663</td>\n",
       "      <td>0.3</td>\n",
       "    </tr>\n",
       "    <tr>\n",
       "      <th>25</th>\n",
       "      <td>90376027</td>\n",
       "      <td>90373663</td>\n",
       "      <td>0.3</td>\n",
       "    </tr>\n",
       "    <tr>\n",
       "      <th>26</th>\n",
       "      <td>90409902</td>\n",
       "      <td>90373663</td>\n",
       "      <td>0.9</td>\n",
       "    </tr>\n",
       "    <tr>\n",
       "      <th>27</th>\n",
       "      <td>90410702</td>\n",
       "      <td>90373663</td>\n",
       "      <td>0.3</td>\n",
       "    </tr>\n",
       "  </tbody>\n",
       "</table>\n",
       "</div>"
      ],
      "text/plain": [
       "    u_case_number  reference  label\n",
       "23       90377579   90373663    0.9\n",
       "24       90411642   90373663    0.3\n",
       "25       90376027   90373663    0.3\n",
       "26       90409902   90373663    0.9\n",
       "27       90410702   90373663    0.3"
      ]
     },
     "execution_count": 7,
     "metadata": {},
     "output_type": "execute_result"
    }
   ],
   "source": [
    "df2.tail()"
   ]
  },
  {
   "cell_type": "code",
   "execution_count": 8,
   "id": "0aa6ed11-75b4-4bf2-a16d-0a8e7c47f039",
   "metadata": {},
   "outputs": [
    {
     "data": {
      "text/plain": [
       "(5333, 3)"
      ]
     },
     "execution_count": 8,
     "metadata": {},
     "output_type": "execute_result"
    }
   ],
   "source": [
    "dataset = pd.concat([df1, df2])\n",
    "dataset.shape"
   ]
  },
  {
   "cell_type": "code",
   "execution_count": 14,
   "id": "13202a27-aa85-40c4-a292-4c17926b9ca4",
   "metadata": {},
   "outputs": [],
   "source": [
    "feedbacks = pd.read_excel('data/UAT_feedbacks_dic2021.xlsx')"
   ]
  },
  {
   "cell_type": "code",
   "execution_count": 6,
   "id": "d1367aa4-6d65-4df8-b395-b80ea3b5ac16",
   "metadata": {},
   "outputs": [
    {
     "data": {
      "text/html": [
       "<div>\n",
       "<style scoped>\n",
       "    .dataframe tbody tr th:only-of-type {\n",
       "        vertical-align: middle;\n",
       "    }\n",
       "\n",
       "    .dataframe tbody tr th {\n",
       "        vertical-align: top;\n",
       "    }\n",
       "\n",
       "    .dataframe thead th {\n",
       "        text-align: right;\n",
       "    }\n",
       "</style>\n",
       "<table border=\"1\" class=\"dataframe\">\n",
       "  <thead>\n",
       "    <tr style=\"text-align: right;\">\n",
       "      <th></th>\n",
       "      <th>Id</th>\n",
       "      <th>Search mode</th>\n",
       "      <th>Search Key</th>\n",
       "      <th>Result</th>\n",
       "      <th>Y/D/N</th>\n",
       "      <th>Comment</th>\n",
       "    </tr>\n",
       "  </thead>\n",
       "  <tbody>\n",
       "    <tr>\n",
       "      <th>474</th>\n",
       "      <td>73.0</td>\n",
       "      <td>SR</td>\n",
       "      <td>90410780</td>\n",
       "      <td>90412053</td>\n",
       "      <td>Y</td>\n",
       "      <td>NaN</td>\n",
       "    </tr>\n",
       "    <tr>\n",
       "      <th>475</th>\n",
       "      <td>74.0</td>\n",
       "      <td>SR</td>\n",
       "      <td>90415317</td>\n",
       "      <td>90380786</td>\n",
       "      <td>N</td>\n",
       "      <td>NaN</td>\n",
       "    </tr>\n",
       "    <tr>\n",
       "      <th>476</th>\n",
       "      <td>74.0</td>\n",
       "      <td>SR</td>\n",
       "      <td>90415317</td>\n",
       "      <td>90396209</td>\n",
       "      <td>N</td>\n",
       "      <td>NaN</td>\n",
       "    </tr>\n",
       "    <tr>\n",
       "      <th>477</th>\n",
       "      <td>74.0</td>\n",
       "      <td>SR</td>\n",
       "      <td>90415317</td>\n",
       "      <td>90390584</td>\n",
       "      <td>N</td>\n",
       "      <td>NaN</td>\n",
       "    </tr>\n",
       "    <tr>\n",
       "      <th>478</th>\n",
       "      <td>NaN</td>\n",
       "      <td>NaN</td>\n",
       "      <td>90415317</td>\n",
       "      <td>90395184</td>\n",
       "      <td>N</td>\n",
       "      <td>NaN</td>\n",
       "    </tr>\n",
       "  </tbody>\n",
       "</table>\n",
       "</div>"
      ],
      "text/plain": [
       "       Id Search mode Search Key    Result Y/D/N Comment\n",
       "474  73.0          SR   90410780  90412053     Y     NaN\n",
       "475  74.0          SR   90415317  90380786     N     NaN\n",
       "476  74.0          SR   90415317  90396209     N     NaN\n",
       "477  74.0          SR   90415317  90390584     N     NaN\n",
       "478   NaN         NaN   90415317  90395184     N     NaN"
      ]
     },
     "execution_count": 6,
     "metadata": {},
     "output_type": "execute_result"
    }
   ],
   "source": [
    "feedbacks.tail()"
   ]
  },
  {
   "cell_type": "code",
   "execution_count": 7,
   "id": "95f6cc0a-f82d-4d7c-b07a-ab14cba9707a",
   "metadata": {},
   "outputs": [
    {
     "data": {
      "text/plain": [
       "(479, 6)"
      ]
     },
     "execution_count": 7,
     "metadata": {},
     "output_type": "execute_result"
    }
   ],
   "source": [
    "feedbacks.shape"
   ]
  },
  {
   "cell_type": "code",
   "execution_count": null,
   "id": "6c68259c-a45e-454d-80a4-b69c712180be",
   "metadata": {},
   "outputs": [],
   "source": []
  },
  {
   "cell_type": "code",
   "execution_count": null,
   "id": "aa032ab5-f3cf-42b3-a435-937466717752",
   "metadata": {},
   "outputs": [],
   "source": []
  },
  {
   "cell_type": "code",
   "execution_count": 12,
   "id": "f0a9f18a-e0de-4d24-9515-1ead34e06ef0",
   "metadata": {},
   "outputs": [],
   "source": [
    "assess_dictionary = {\n",
    "    'Y': 0.9,\n",
    "    'N' : 0.3,\n",
    "    'D': 0.7,\n",
    "    '?': np.nan\n",
    "}"
   ]
  },
  {
   "cell_type": "code",
   "execution_count": 5,
   "id": "29a73151-e2a5-484a-854a-aaaf30b8ed02",
   "metadata": {},
   "outputs": [
    {
     "data": {
      "text/plain": [
       "SR      295\n",
       "text    137\n",
       "Text     46\n",
       "Name: Search mode, dtype: int64"
      ]
     },
     "execution_count": 5,
     "metadata": {},
     "output_type": "execute_result"
    }
   ],
   "source": [
    "feedbacks['Search mode'].value_counts()"
   ]
  },
  {
   "cell_type": "code",
   "execution_count": 12,
   "id": "ad48f034-7c27-495f-b49c-71b690e48832",
   "metadata": {},
   "outputs": [
    {
     "data": {
      "text/html": [
       "<div>\n",
       "<style scoped>\n",
       "    .dataframe tbody tr th:only-of-type {\n",
       "        vertical-align: middle;\n",
       "    }\n",
       "\n",
       "    .dataframe tbody tr th {\n",
       "        vertical-align: top;\n",
       "    }\n",
       "\n",
       "    .dataframe thead th {\n",
       "        text-align: right;\n",
       "    }\n",
       "</style>\n",
       "<table border=\"1\" class=\"dataframe\">\n",
       "  <thead>\n",
       "    <tr style=\"text-align: right;\">\n",
       "      <th></th>\n",
       "      <th>Id</th>\n",
       "      <th>Search mode</th>\n",
       "      <th>Search Key</th>\n",
       "      <th>Result</th>\n",
       "      <th>Y/D/N</th>\n",
       "      <th>Comment</th>\n",
       "    </tr>\n",
       "  </thead>\n",
       "  <tbody>\n",
       "    <tr>\n",
       "      <th>0</th>\n",
       "      <td>1.0</td>\n",
       "      <td>text</td>\n",
       "      <td>contaminated DGS</td>\n",
       "      <td>90377892</td>\n",
       "      <td>Y</td>\n",
       "      <td>NaN</td>\n",
       "    </tr>\n",
       "    <tr>\n",
       "      <th>1</th>\n",
       "      <td>2.0</td>\n",
       "      <td>text</td>\n",
       "      <td>we found issues on energized seal</td>\n",
       "      <td>90416657</td>\n",
       "      <td>Y</td>\n",
       "      <td>NaN</td>\n",
       "    </tr>\n",
       "    <tr>\n",
       "      <th>2</th>\n",
       "      <td>2.0</td>\n",
       "      <td>text</td>\n",
       "      <td>we found issues on energized seal</td>\n",
       "      <td>90397122</td>\n",
       "      <td>Y</td>\n",
       "      <td>NaN</td>\n",
       "    </tr>\n",
       "    <tr>\n",
       "      <th>3</th>\n",
       "      <td>3.0</td>\n",
       "      <td>text</td>\n",
       "      <td>defective energized seal</td>\n",
       "      <td>NO RESULT</td>\n",
       "      <td>N</td>\n",
       "      <td>NaN</td>\n",
       "    </tr>\n",
       "    <tr>\n",
       "      <th>15</th>\n",
       "      <td>6.0</td>\n",
       "      <td>text</td>\n",
       "      <td>failure for Honeywell ST800 transmitter</td>\n",
       "      <td>90376654</td>\n",
       "      <td>Y</td>\n",
       "      <td>NaN</td>\n",
       "    </tr>\n",
       "  </tbody>\n",
       "</table>\n",
       "</div>"
      ],
      "text/plain": [
       "     Id Search mode                               Search Key     Result Y/D/N  \\\n",
       "0   1.0        text                         contaminated DGS   90377892     Y   \n",
       "1   2.0        text        we found issues on energized seal   90416657     Y   \n",
       "2   2.0        text        we found issues on energized seal   90397122     Y   \n",
       "3   3.0        text                 defective energized seal  NO RESULT     N   \n",
       "15  6.0        text  failure for Honeywell ST800 transmitter   90376654     Y   \n",
       "\n",
       "   Comment  \n",
       "0      NaN  \n",
       "1      NaN  \n",
       "2      NaN  \n",
       "3      NaN  \n",
       "15     NaN  "
      ]
     },
     "execution_count": 12,
     "metadata": {},
     "output_type": "execute_result"
    }
   ],
   "source": [
    "text_feedbacks = feedbacks[feedbacks['Search mode'] == 'text']\n",
    "text_feedbacks.head()"
   ]
  },
  {
   "cell_type": "code",
   "execution_count": 13,
   "id": "61cc41ca-b66c-4b38-8ac3-aacf170af6a0",
   "metadata": {},
   "outputs": [],
   "source": [
    "import re"
   ]
  },
  {
   "cell_type": "code",
   "execution_count": 18,
   "id": "dcc3de73-05fc-4c6b-a2a9-28a964fc6309",
   "metadata": {},
   "outputs": [
    {
     "data": {
      "text/plain": [
       "True     296\n",
       "False    183\n",
       "Name: Search Key, dtype: int64"
      ]
     },
     "execution_count": 18,
     "metadata": {},
     "output_type": "execute_result"
    }
   ],
   "source": [
    "# if len(isbn) == 10 and isbn.isdigit():\n",
    "feedbacks['Search Key'].apply(lambda x: (len(str(x)) == 8 and str(x).isdigit())).value_counts()"
   ]
  },
  {
   "cell_type": "code",
   "execution_count": 15,
   "id": "1e466ea8-a4be-49f4-b597-22acf506ae2a",
   "metadata": {},
   "outputs": [
    {
     "data": {
      "text/html": [
       "<div>\n",
       "<style scoped>\n",
       "    .dataframe tbody tr th:only-of-type {\n",
       "        vertical-align: middle;\n",
       "    }\n",
       "\n",
       "    .dataframe tbody tr th {\n",
       "        vertical-align: top;\n",
       "    }\n",
       "\n",
       "    .dataframe thead th {\n",
       "        text-align: right;\n",
       "    }\n",
       "</style>\n",
       "<table border=\"1\" class=\"dataframe\">\n",
       "  <thead>\n",
       "    <tr style=\"text-align: right;\">\n",
       "      <th></th>\n",
       "      <th>Id</th>\n",
       "      <th>Search mode</th>\n",
       "      <th>Search Key</th>\n",
       "      <th>Result</th>\n",
       "      <th>Y/D/N</th>\n",
       "      <th>Comment</th>\n",
       "    </tr>\n",
       "  </thead>\n",
       "  <tbody>\n",
       "    <tr>\n",
       "      <th>0</th>\n",
       "      <td>1.0</td>\n",
       "      <td>text</td>\n",
       "      <td>contaminated DGS</td>\n",
       "      <td>90377892</td>\n",
       "      <td>Y</td>\n",
       "      <td>NaN</td>\n",
       "    </tr>\n",
       "    <tr>\n",
       "      <th>1</th>\n",
       "      <td>2.0</td>\n",
       "      <td>text</td>\n",
       "      <td>we found issues on energized seal</td>\n",
       "      <td>90416657</td>\n",
       "      <td>Y</td>\n",
       "      <td>NaN</td>\n",
       "    </tr>\n",
       "    <tr>\n",
       "      <th>2</th>\n",
       "      <td>2.0</td>\n",
       "      <td>text</td>\n",
       "      <td>we found issues on energized seal</td>\n",
       "      <td>90397122</td>\n",
       "      <td>Y</td>\n",
       "      <td>NaN</td>\n",
       "    </tr>\n",
       "    <tr>\n",
       "      <th>3</th>\n",
       "      <td>3.0</td>\n",
       "      <td>text</td>\n",
       "      <td>defective energized seal</td>\n",
       "      <td>NO RESULT</td>\n",
       "      <td>N</td>\n",
       "      <td>NaN</td>\n",
       "    </tr>\n",
       "    <tr>\n",
       "      <th>15</th>\n",
       "      <td>6.0</td>\n",
       "      <td>text</td>\n",
       "      <td>failure for Honeywell ST800 transmitter</td>\n",
       "      <td>90376654</td>\n",
       "      <td>Y</td>\n",
       "      <td>NaN</td>\n",
       "    </tr>\n",
       "    <tr>\n",
       "      <th>...</th>\n",
       "      <td>...</td>\n",
       "      <td>...</td>\n",
       "      <td>...</td>\n",
       "      <td>...</td>\n",
       "      <td>...</td>\n",
       "      <td>...</td>\n",
       "    </tr>\n",
       "    <tr>\n",
       "      <th>453</th>\n",
       "      <td>71.0</td>\n",
       "      <td>text</td>\n",
       "      <td>we have found sikaflex cartridges expired</td>\n",
       "      <td>90390503</td>\n",
       "      <td>D</td>\n",
       "      <td>silicone expired</td>\n",
       "    </tr>\n",
       "    <tr>\n",
       "      <th>454</th>\n",
       "      <td>71.0</td>\n",
       "      <td>text</td>\n",
       "      <td>we have found sikaflex cartridges expired</td>\n",
       "      <td>90376435</td>\n",
       "      <td>D</td>\n",
       "      <td>Expired preservatio of capital spare parts</td>\n",
       "    </tr>\n",
       "    <tr>\n",
       "      <th>455</th>\n",
       "      <td>71.0</td>\n",
       "      <td>text</td>\n",
       "      <td>we have found sikaflex cartridges expired</td>\n",
       "      <td>90398921</td>\n",
       "      <td>D</td>\n",
       "      <td>OPC license is expire</td>\n",
       "    </tr>\n",
       "    <tr>\n",
       "      <th>456</th>\n",
       "      <td>71.0</td>\n",
       "      <td>text</td>\n",
       "      <td>we have found sikaflex cartridges expired</td>\n",
       "      <td>90411005</td>\n",
       "      <td>D</td>\n",
       "      <td>AVG AntiVirus Business edition for all GTC uni...</td>\n",
       "    </tr>\n",
       "    <tr>\n",
       "      <th>457</th>\n",
       "      <td>71.0</td>\n",
       "      <td>text</td>\n",
       "      <td>we have found sikaflex cartridges expired</td>\n",
       "      <td>90391094</td>\n",
       "      <td>D</td>\n",
       "      <td>Software license expired</td>\n",
       "    </tr>\n",
       "  </tbody>\n",
       "</table>\n",
       "<p>183 rows × 6 columns</p>\n",
       "</div>"
      ],
      "text/plain": [
       "       Id Search mode                                 Search Key     Result  \\\n",
       "0     1.0        text                           contaminated DGS   90377892   \n",
       "1     2.0        text          we found issues on energized seal   90416657   \n",
       "2     2.0        text          we found issues on energized seal   90397122   \n",
       "3     3.0        text                   defective energized seal  NO RESULT   \n",
       "15    6.0        text    failure for Honeywell ST800 transmitter   90376654   \n",
       "..    ...         ...                                        ...        ...   \n",
       "453  71.0        text  we have found sikaflex cartridges expired   90390503   \n",
       "454  71.0        text  we have found sikaflex cartridges expired   90376435   \n",
       "455  71.0        text  we have found sikaflex cartridges expired   90398921   \n",
       "456  71.0        text  we have found sikaflex cartridges expired   90411005   \n",
       "457  71.0        text  we have found sikaflex cartridges expired   90391094   \n",
       "\n",
       "    Y/D/N                                            Comment  \n",
       "0       Y                                                NaN  \n",
       "1       Y                                                NaN  \n",
       "2       Y                                                NaN  \n",
       "3       N                                                NaN  \n",
       "15      Y                                                NaN  \n",
       "..    ...                                                ...  \n",
       "453     D                                   silicone expired  \n",
       "454     D         Expired preservatio of capital spare parts  \n",
       "455     D                              OPC license is expire  \n",
       "456     D  AVG AntiVirus Business edition for all GTC uni...  \n",
       "457     D                           Software license expired  \n",
       "\n",
       "[183 rows x 6 columns]"
      ]
     },
     "execution_count": 15,
     "metadata": {},
     "output_type": "execute_result"
    }
   ],
   "source": [
    "feedbacks[feedbacks['Search Key'].apply(lambda x: not(len(str(x)) == 8 and str(x).isdigit()))]"
   ]
  },
  {
   "cell_type": "code",
   "execution_count": null,
   "id": "3d899bc5-562a-4452-9b13-919024a43624",
   "metadata": {},
   "outputs": [],
   "source": []
  },
  {
   "cell_type": "code",
   "execution_count": 6,
   "id": "03c9ff22-e592-470b-8220-c55409c16445",
   "metadata": {},
   "outputs": [],
   "source": [
    "SR_feedbacks = feedbacks[feedbacks['Search mode'] == 'SR']"
   ]
  },
  {
   "cell_type": "code",
   "execution_count": 7,
   "id": "7188a9e1-4c3e-4e6f-a05b-933d975b86a0",
   "metadata": {},
   "outputs": [
    {
     "name": "stderr",
     "output_type": "stream",
     "text": [
      "/workspace/chiara/2012_AK_SR_prod/2012_AK_SR_repository/servicerequestslib/model_fine_tuning.py:36: SettingWithCopyWarning: \n",
      "A value is trying to be set on a copy of a slice from a DataFrame.\n",
      "Try using .loc[row_indexer,col_indexer] = value instead\n",
      "\n",
      "See the caveats in the documentation: https://pandas.pydata.org/pandas-docs/stable/user_guide/indexing.html#returning-a-view-versus-a-copy\n",
      "  feedbacks['label'] = feedbacks[feedback_column].map(assess_dictionary)\n",
      "/usr/local/lib/python3.8/dist-packages/pandas/core/frame.py:5039: SettingWithCopyWarning: \n",
      "A value is trying to be set on a copy of a slice from a DataFrame\n",
      "\n",
      "See the caveats in the documentation: https://pandas.pydata.org/pandas-docs/stable/user_guide/indexing.html#returning-a-view-versus-a-copy\n",
      "  return super().rename(\n"
     ]
    }
   ],
   "source": [
    "df3 = parse_feedback_data(SR_feedbacks)"
   ]
  },
  {
   "cell_type": "code",
   "execution_count": 8,
   "id": "a8cdc244-2144-45f2-a46c-62a6098571e2",
   "metadata": {},
   "outputs": [
    {
     "data": {
      "text/plain": [
       "(295, 3)"
      ]
     },
     "execution_count": 8,
     "metadata": {},
     "output_type": "execute_result"
    }
   ],
   "source": [
    "df3.shape"
   ]
  },
  {
   "cell_type": "code",
   "execution_count": 9,
   "id": "38216e28-fecb-4dfd-92f3-8513bb709b22",
   "metadata": {},
   "outputs": [
    {
     "data": {
      "text/html": [
       "<div>\n",
       "<style scoped>\n",
       "    .dataframe tbody tr th:only-of-type {\n",
       "        vertical-align: middle;\n",
       "    }\n",
       "\n",
       "    .dataframe tbody tr th {\n",
       "        vertical-align: top;\n",
       "    }\n",
       "\n",
       "    .dataframe thead th {\n",
       "        text-align: right;\n",
       "    }\n",
       "</style>\n",
       "<table border=\"1\" class=\"dataframe\">\n",
       "  <thead>\n",
       "    <tr style=\"text-align: right;\">\n",
       "      <th></th>\n",
       "      <th>u_case_number</th>\n",
       "      <th>reference</th>\n",
       "      <th>label</th>\n",
       "    </tr>\n",
       "  </thead>\n",
       "  <tbody>\n",
       "    <tr>\n",
       "      <th>0</th>\n",
       "      <td>90372343</td>\n",
       "      <td>90339919</td>\n",
       "      <td>0.3</td>\n",
       "    </tr>\n",
       "    <tr>\n",
       "      <th>1</th>\n",
       "      <td>90378244</td>\n",
       "      <td>90339919</td>\n",
       "      <td>0.3</td>\n",
       "    </tr>\n",
       "    <tr>\n",
       "      <th>2</th>\n",
       "      <td>90371671</td>\n",
       "      <td>90339919</td>\n",
       "      <td>0.7</td>\n",
       "    </tr>\n",
       "    <tr>\n",
       "      <th>3</th>\n",
       "      <td>90411010</td>\n",
       "      <td>90339919</td>\n",
       "      <td>0.3</td>\n",
       "    </tr>\n",
       "    <tr>\n",
       "      <th>4</th>\n",
       "      <td>90398771</td>\n",
       "      <td>90339919</td>\n",
       "      <td>0.3</td>\n",
       "    </tr>\n",
       "  </tbody>\n",
       "</table>\n",
       "</div>"
      ],
      "text/plain": [
       "  u_case_number reference  label\n",
       "0      90372343  90339919    0.3\n",
       "1      90378244  90339919    0.3\n",
       "2      90371671  90339919    0.7\n",
       "3      90411010  90339919    0.3\n",
       "4      90398771  90339919    0.3"
      ]
     },
     "execution_count": 9,
     "metadata": {},
     "output_type": "execute_result"
    }
   ],
   "source": [
    "df3.head()"
   ]
  },
  {
   "cell_type": "code",
   "execution_count": 10,
   "id": "e0bc9be8-7765-4608-99c0-427f6147cb69",
   "metadata": {},
   "outputs": [],
   "source": [
    "dataset = pd.concat([df1, df2, df3])"
   ]
  },
  {
   "cell_type": "code",
   "execution_count": 11,
   "id": "79cb9608-ad9b-4f2c-b778-1973439544bc",
   "metadata": {},
   "outputs": [
    {
     "data": {
      "text/plain": [
       "(5628, 3)"
      ]
     },
     "execution_count": 11,
     "metadata": {},
     "output_type": "execute_result"
    }
   ],
   "source": [
    "dataset.shape"
   ]
  },
  {
   "cell_type": "code",
   "execution_count": 19,
   "id": "0fac3464-d5a6-4a87-ac48-0eda544d6edc",
   "metadata": {
    "tags": []
   },
   "outputs": [
    {
     "data": {
      "text/plain": [
       "'all-MiniLM-L6-v2'"
      ]
     },
     "execution_count": 19,
     "metadata": {},
     "output_type": "execute_result"
    }
   ],
   "source": [
    "metrics.loc['Pearson corr'].idxmax()[10:]"
   ]
  },
  {
   "cell_type": "code",
   "execution_count": 1,
   "id": "7c685b4e-52f3-4570-9850-5bcee4e7c6bb",
   "metadata": {},
   "outputs": [],
   "source": [
    "import datetime\n",
    "from servicerequestslib import *"
   ]
  },
  {
   "cell_type": "code",
   "execution_count": 3,
   "id": "5c26d6c5-d8a0-4904-b646-240edf812934",
   "metadata": {},
   "outputs": [],
   "source": [
    "model_path = '/akui/bhsle/models/sr_similarity_20211116/model'\n",
    "\n",
    "\n",
    "today_str = ''.join(str(datetime.datetime.today().date()).split('-'))\n",
    "# data_to_use = '../data/CIN_data_'+today_str+'.pickle'\n",
    "\n",
    "# model.save(save_str)"
   ]
  },
  {
   "cell_type": "code",
   "execution_count": 7,
   "id": "f6f0dc23-2bee-4f95-b8b3-63ae243ab982",
   "metadata": {},
   "outputs": [],
   "source": [
    "path_prefix = '/'.join(model_path.split('/')[:-2])"
   ]
  },
  {
   "cell_type": "code",
   "execution_count": 8,
   "id": "097caaea-d587-49d3-94f1-8f2ee6bb6993",
   "metadata": {},
   "outputs": [],
   "source": [
    "save_str = f'{path_prefix}/sr_similarity_{today_str}/model'"
   ]
  },
  {
   "cell_type": "code",
   "execution_count": 9,
   "id": "8d3337f8-143d-45dc-88a8-5995ebb4e713",
   "metadata": {},
   "outputs": [
    {
     "data": {
      "text/plain": [
       "'/akui/bhsle/models/sr_similarity_20220113/model'"
      ]
     },
     "execution_count": 9,
     "metadata": {},
     "output_type": "execute_result"
    }
   ],
   "source": [
    "save_str"
   ]
  },
  {
   "cell_type": "code",
   "execution_count": 10,
   "id": "bc6de5a7-8142-4c29-bb75-edb9d81e60aa",
   "metadata": {},
   "outputs": [
    {
     "data": {
      "text/plain": [
       "'baseline'"
      ]
     },
     "execution_count": 10,
     "metadata": {},
     "output_type": "execute_result"
    }
   ],
   "source": [
    "'currently_baseline'[10:]"
   ]
  },
  {
   "cell_type": "code",
   "execution_count": null,
   "id": "4c11cfff-a2da-41b5-8afe-582eb4b37b0a",
   "metadata": {},
   "outputs": [],
   "source": []
  }
 ],
 "metadata": {
  "kernelspec": {
   "display_name": "Python 3 (ipykernel)",
   "language": "python",
   "name": "python3"
  },
  "language_info": {
   "codemirror_mode": {
    "name": "ipython",
    "version": 3
   },
   "file_extension": ".py",
   "mimetype": "text/x-python",
   "name": "python",
   "nbconvert_exporter": "python",
   "pygments_lexer": "ipython3",
   "version": "3.8.10"
  }
 },
 "nbformat": 4,
 "nbformat_minor": 5
}
