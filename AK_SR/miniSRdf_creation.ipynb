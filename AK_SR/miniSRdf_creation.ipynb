{
 "cells": [
  {
   "cell_type": "code",
   "execution_count": 1,
   "metadata": {},
   "outputs": [
    {
     "name": "stderr",
     "output_type": "stream",
     "text": [
      "/usr/local/lib/python3.8/dist-packages/IPython/core/interactiveshell.py:3457: DtypeWarning: Columns (7,12,16,20,21,22,23,24,25,26,27,28,29,30,31,32,33,34,35,36,37,38,39,40,41,42,43,46,50,51,53,54,55,58,59,60,64,66,75,78,88,89,90,91,95,99,103,104,106,108,116,117,119,120,122,125,126,133,134,135,136,137,138,139,140,141,142,143,144,145,146,147,148,149,150,151,152,153,154,155,156,157,158,159,160,161,162,163,164,165,166,167,168,169,170,171,172,173,174,175,176,177,178,179,180,181,182,183,185,186) have mixed types.Specify dtype option on import or set low_memory=False.\n",
      "  exec(code_obj, self.user_global_ns, self.user_ns)\n"
     ]
    }
   ],
   "source": [
    "import pandas as pd\n",
    "import numpy as np\n",
    "import os\n",
    "\n",
    "data_path = '/data/coq-ncm/allsr/'\n",
    "big_df = pd.read_csv(os.path.join(data_path,'ALL SR from 2014 to 20210218.csv'), parse_dates=['u_opened'], index_col=0)\n",
    "# big_df.sample(500).to_csv('tests/fixtures/miniSRdf.csv', index=False)"
   ]
  },
  {
   "cell_type": "code",
   "execution_count": 20,
   "metadata": {},
   "outputs": [],
   "source": [
    "# collect known clusters to be used for clustering tests\n",
    "collect1 = big_df[big_df['u_case_number'].isin([90372753, 90373060, 90368944])]\n",
    "collect2 = big_df[big_df['u_case_number'].isin([90372865, 90376722, 90354433])]\n",
    "collect3 = big_df[big_df['u_case_number'].isin([90376982, 90352313, 90322012, 90321503, 90319248])]\n",
    "collect4 = big_df[big_df['u_case_number'].isin([90337622, 90205676, 90206048])]"
   ]
  },
  {
   "cell_type": "code",
   "execution_count": 21,
   "metadata": {},
   "outputs": [],
   "source": [
    "small_df = big_df.sample(500)"
   ]
  },
  {
   "cell_type": "code",
   "execution_count": 28,
   "metadata": {},
   "outputs": [],
   "source": [
    "pd.concat([small_df, collect1, collect2, collect3, collect4]).drop_duplicates().to_csv('tests/fixtures/miniSRdf.csv', index=False)"
   ]
  },
  {
   "cell_type": "code",
   "execution_count": null,
   "metadata": {},
   "outputs": [],
   "source": []
  }
 ],
 "metadata": {
  "kernelspec": {
   "display_name": "Python 3",
   "language": "python",
   "name": "python3"
  },
  "language_info": {
   "codemirror_mode": {
    "name": "ipython",
    "version": 3
   },
   "file_extension": ".py",
   "mimetype": "text/x-python",
   "name": "python",
   "nbconvert_exporter": "python",
   "pygments_lexer": "ipython3",
   "version": "3.8.10"
  }
 },
 "nbformat": 4,
 "nbformat_minor": 4
}
