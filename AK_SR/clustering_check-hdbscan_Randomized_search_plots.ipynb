{
 "cells": [
  {
   "cell_type": "markdown",
   "id": "df4dad8b",
   "metadata": {},
   "source": [
    "## Clusters Formation- Randomized Search- Evaluate your clusters\n",
    "### Plot cluster fromation\n",
    "### Verify cluster formation with an alternating technique"
   ]
  },
  {
   "cell_type": "markdown",
   "id": "671947cd",
   "metadata": {},
   "source": [
    "#### To vaildate the cluster formation in the data set - AK2_SIMILARITY_CLUSTERS_FEEDBACK_202207121328.csv' "
   ]
  },
  {
   "cell_type": "code",
   "execution_count": 1,
   "id": "65e12627",
   "metadata": {},
   "outputs": [
    {
     "name": "stdout",
     "output_type": "stream",
     "text": [
      "All the libraries are found\n"
     ]
    }
   ],
   "source": [
    "try:\n",
    "    import pandas as pd\n",
    "    import numpy as np\n",
    "    import os\n",
    "\n",
    "    # to get the embeddings\n",
    "    from sentence_transformers import SentenceTransformer\n",
    "\n",
    "    # Formation of clusters with hdbscan technique\n",
    "    import hdbscan\n",
    "    from sklearn.model_selection import RandomizedSearchCV\n",
    "\n",
    "    from sklearn.metrics import make_scorer\n",
    "    import logging\n",
    "    \n",
    "    import seaborn as sns\n",
    "    print('All the libraries are found')\n",
    "except:\n",
    "    print(\"One or more libraries need to be installed\")\n",
    "    \n",
    "\n"
   ]
  },
  {
   "cell_type": "code",
   "execution_count": 2,
   "id": "4c62260e",
   "metadata": {},
   "outputs": [],
   "source": [
    "# function to read the data\n",
    "def read_data(path,file_name):\n",
    "    df = pd.read_csv(path + filename,parse_dates=['CREATION_DATE'], index_col=0)\n",
    "    return df\n",
    "filename = 'AK2_SIMILARITY_CLUSTERS_FEEDBACK_202207121328.csv'\n",
    "path = '../data/'\n",
    "cluster_FB_data = read_data(path,filename)"
   ]
  },
  {
   "cell_type": "code",
   "execution_count": 3,
   "id": "bc9ade5b",
   "metadata": {},
   "outputs": [],
   "source": [
    "# function to get the clusters from the given data\n",
    "def get_clusters(data):\n",
    "    _dictionary = {}\n",
    "    _lists = []\n",
    "    cluster_names = list(data.CLUSTER_LABEL.unique())\n",
    "    for i in cluster_names:\n",
    "        cluster  = list(data[data.CLUSTER_LABEL == i]['CASE_NUMBER'])\n",
    "        _dictionary[i]=cluster\n",
    "        _lists.append(cluster)\n",
    "    \n",
    "    \n",
    "    return _lists, _dictionary\n",
    "         \n",
    "    \n",
    "cluster_lists,cluster_dictionary= get_clusters(cluster_FB_data)  "
   ]
  },
  {
   "cell_type": "code",
   "execution_count": 4,
   "id": "8c5c3251",
   "metadata": {},
   "outputs": [],
   "source": [
    "# read the source data from where this cluster feedback data is derived\n",
    "# function\n",
    "file_name ='mysql_local_snapshot.pickle'\n",
    "def read_pickle_file(filename):\n",
    "    data=pd.read_pickle('../data/'+ filename)\n",
    "    return data\n",
    "df = read_pickle_file(file_name)"
   ]
  },
  {
   "cell_type": "code",
   "execution_count": 5,
   "id": "6ab6e5fc",
   "metadata": {},
   "outputs": [],
   "source": [
    "# function to get the casenumbers of clusters feedback data from the source data\n",
    "def get_source_data(df,clusters):\n",
    "    data = []\n",
    "    for cluster in clusters:\n",
    "        collect = df[df['CASE_NUMBER'].isin(cluster)]\n",
    "        data.append(collect)\n",
    "        \n",
    "    df=pd.concat(data)                  \n",
    "    \n",
    "        \n",
    "    return df\n",
    "\n",
    "cluster_df = get_source_data(df,cluster_lists)\n",
    "cluster_df=cluster_df[['CASE_NUMBER','_TEXT_LONG']]"
   ]
  },
  {
   "cell_type": "code",
   "execution_count": 6,
   "id": "2de4ec30",
   "metadata": {},
   "outputs": [],
   "source": [
    "def get_embeddings(model, text): \n",
    "    embedder = model\n",
    "    sentences = text.to_list()\n",
    "    embeddings = embedder.encode(sentences)\n",
    "    return embeddings\n",
    "\n",
    "model_chosen = 'all-MiniLM-L6-v2'\n",
    "embeddings = get_embeddings(SentenceTransformer(model_chosen),cluster_df['_TEXT_LONG'])\n"
   ]
  },
  {
   "cell_type": "code",
   "execution_count": 7,
   "id": "cfb3f416",
   "metadata": {},
   "outputs": [],
   "source": [
    "# normalize the embeddings if you want\n",
    "def normalize_embeddings(embeddings_to_normalize):\n",
    "    embeddings_normalized = embeddings / np.linalg.norm(embeddings,axis=1,keepdims=True)\n",
    "    return embeddings_normalized\n",
    "\n",
    "normalized_embeddings = normalize_embeddings(embeddings)    "
   ]
  },
  {
   "cell_type": "code",
   "execution_count": null,
   "id": "6c304907",
   "metadata": {},
   "outputs": [],
   "source": []
  },
  {
   "cell_type": "code",
   "execution_count": 8,
   "id": "7ab38ee7",
   "metadata": {},
   "outputs": [],
   "source": [
    "# choose clustering_algorithm\n",
    "def algo(embeddings,algorithm):\n",
    "    \n",
    "    fit_model = algorithm.HDBSCAN(gen_min_span_tree=True).fit(embeddings)\n",
    "    return fit_model\n",
    "\n",
    "\n",
    "hdb = algo(normalized_embeddings,hdbscan)    "
   ]
  },
  {
   "cell_type": "code",
   "execution_count": 9,
   "id": "c2a714f9",
   "metadata": {},
   "outputs": [
    {
     "name": "stdout",
     "output_type": "stream",
     "text": [
      "Best Parameters {'min_samples': 1, 'min_cluster_size': 3, 'metric': 'euclidean', 'cluster_selection_method': 'eom'}\n",
      "DBCV score :0.2885223599752883\n"
     ]
    }
   ],
   "source": [
    "logging.captureWarnings(True)\n",
    "def randomized_search(n_iter_search,embeddings,algo):\n",
    "    SEED = 14\n",
    "    hdb = algo.HDBSCAN(gen_min_span_tree=True).fit(embeddings)\n",
    "    # specify parameters and distributions to sample from\n",
    "    param_dist = {'min_samples': np.arange(1,7).tolist() ,\n",
    "                  'min_cluster_size':[3,4,5,6,7,8,9,10],  \n",
    "                  'cluster_selection_method' : ['eom','leaf'],\n",
    "                  'metric' : ['euclidean','manhattan'] \n",
    "                 }\n",
    "\n",
    "    #validity_scroer = \"hdbscan__hdbscan___HDBSCAN__validity_index\"\n",
    "    validity_scorer = make_scorer(hdbscan.validity.validity_index,greater_is_better=True)\n",
    "    \n",
    "    #n_iter_search = 500\n",
    "    random_search = RandomizedSearchCV(hdb,\n",
    "                                   param_distributions=param_dist,\n",
    "                                   n_iter=n_iter_search,\n",
    "                                   scoring=validity_scorer,\n",
    "                                   random_state=SEED)\n",
    "\n",
    "    random_search.fit(embeddings)\n",
    "    best_params = random_search.best_params_\n",
    "    labels =  random_search.best_estimator_.labels_\n",
    "    DBCV_score = random_search.best_estimator_.relative_validity_\n",
    "    \n",
    "    print(f\"Best Parameters {random_search.best_params_}\")\n",
    "    print(f\"DBCV score :{random_search.best_estimator_.relative_validity_}\")\n",
    "    \n",
    "    return best_params, DBCV_score,labels\n",
    "\n",
    "\n",
    " \n",
    "\n",
    "best_params, DBCV_score,labels_names = randomized_search(500,normalized_embeddings,hdbscan)\n"
   ]
  },
  {
   "cell_type": "code",
   "execution_count": 10,
   "id": "f00652cc",
   "metadata": {},
   "outputs": [
    {
     "name": "stdout",
     "output_type": "stream",
     "text": [
      "Percent of data retained: 0.8333333333333334\n",
      "Total Clusters found: 11\n",
      "Cluster splits: [4, 6, 4, 4, 6, 6, 4, 12, 6, 4, 4]\n"
     ]
    }
   ],
   "source": [
    "# evalute the clusters formed above\n",
    "def eval_clusters(embeddings,labels_names):\n",
    "    labels = labels_names\n",
    "    clustered = (labels >= 0)\n",
    "\n",
    "    coverage = np.sum(clustered) / embeddings.shape[0]\n",
    "    total_clusters = np.max(labels) + 1\n",
    "    cluster_sizes = np.bincount(labels[clustered]).tolist()\n",
    "\n",
    "    print(f\"Percent of data retained: {coverage}\")\n",
    "    print(f\"Total Clusters found: {total_clusters}\")\n",
    "    print(f\"Cluster splits: {cluster_sizes}\")\n",
    "    \n",
    "    return\n",
    "\n",
    "eval_clusters(normalized_embeddings,labels_names)"
   ]
  },
  {
   "cell_type": "code",
   "execution_count": 11,
   "id": "f5728ddc",
   "metadata": {},
   "outputs": [],
   "source": [
    "# apply this best_parameters to get the clusters and cluster labels\n",
    "# attach the cluster labels to the resulting data frame named clustered_df\n",
    "def apply_algo(embeddings,df):\n",
    "    cluster_hdbscan = hdbscan.HDBSCAN(min_samples = 1, min_cluster_size = 3, metric ='euclidean', cluster_selection_method = 'eom')\n",
    "    cluster_hdbscan.fit(embeddings) # hard clustering\n",
    "    df['hdbscan_labels'] = list(cluster_hdbscan.labels_)\n",
    "    return df,cluster_hdbscan\n",
    "\n",
    "clustered_df,cluster_hdbscan = apply_algo(normalized_embeddings,cluster_df)\n",
    "    "
   ]
  },
  {
   "cell_type": "code",
   "execution_count": 12,
   "id": "40903f9e",
   "metadata": {},
   "outputs": [],
   "source": [
    "# verify your cluster formation - alternative technique\n"
   ]
  },
  {
   "cell_type": "markdown",
   "id": "618ac0a2",
   "metadata": {},
   "source": [
    "## plotting of the cluster_formation "
   ]
  },
  {
   "cell_type": "code",
   "execution_count": 13,
   "id": "625e6bfb",
   "metadata": {},
   "outputs": [],
   "source": [
    "def get_probs(model):\n",
    "    prob_list = list(model.probabilities_)\n",
    "    return prob_list\n",
    "soft_clusters = get_probs(cluster_hdbscan)"
   ]
  },
  {
   "cell_type": "code",
   "execution_count": 14,
   "id": "890e7116",
   "metadata": {},
   "outputs": [
    {
     "data": {
      "text/plain": [
       "<AxesSubplot:ylabel='$\\\\lambda$ value'>"
      ]
     },
     "execution_count": 14,
     "metadata": {},
     "output_type": "execute_result"
    },
    {
     "data": {
      "image/png": "[encoded data removed]",
      "text/plain": [
       "<Figure size 432x288 with 2 Axes>"
      ]
     },
     "metadata": {
      "needs_background": "light"
     },
     "output_type": "display_data"
    }
   ],
   "source": [
    "\n",
    "cluster_hdbscan.condensed_tree_.plot(select_clusters=True,\n",
    "                               selection_palette=sns.color_palette('deep', 8))\n"
   ]
  },
  {
   "cell_type": "code",
   "execution_count": null,
   "id": "045b06cb",
   "metadata": {},
   "outputs": [],
   "source": []
  },
  {
   "cell_type": "code",
   "execution_count": null,
   "id": "89ff17bf",
   "metadata": {},
   "outputs": [],
   "source": []
  },
  {
   "cell_type": "code",
   "execution_count": 15,
   "id": "9426c247",
   "metadata": {},
   "outputs": [
    {
     "name": "stdout",
     "output_type": "stream",
     "text": [
      "\n",
      "[clusteval] >Fit using hdbscan with metric: euclidean, and linkage: ward\n",
      "[clusteval] >Estimated number of clusters: 12\n",
      "[clusteval] >Silhouette Coefficient: 0.453\n",
      "[clusteval] >Compute dendrogram threshold.\n",
      "[clusteval] >Optimal number clusters detected: [13].\n",
      "[clusteval] >Fin.\n"
     ]
    }
   ],
   "source": [
    "# Alternative \n",
    "# Import library\n",
    "from clusteval import clusteval\n",
    "\n",
    "# Set parameters, as an example dbscan\n",
    "ce = clusteval(cluster='hdbscan')\n",
    "\n",
    "# Fit to find optimal number of clusters using dbscan\n",
    "results= ce.fit(normalized_embeddings)\n",
    "\n"
   ]
  },
  {
   "cell_type": "code",
   "execution_count": 16,
   "id": "5da24947",
   "metadata": {},
   "outputs": [
    {
     "data": {
      "text/plain": [
       "{'evaluate': 'hdbscan',\n",
       " 'labx': array([ 0, -1,  3,  0, -1,  3,  1,  2,  2,  0, -1,  3,  0, -1,  3,  1,  2,\n",
       "         2, -1, 11, 11, 11, 11, 11, 11, -1, 11, 11, 11, 11, 11, 11,  7, 10,\n",
       "         7, 10, -1, -1,  7, 10,  7, 10, -1, -1,  4,  5,  4,  4,  5,  5,  4,\n",
       "         5,  4,  4,  5,  5, -1,  8,  8,  9,  9, -1,  8,  8,  9,  9,  6,  6,\n",
       "         6,  6,  6,  6]),\n",
       " 'p': array([1.        , 0.        , 1.        , 1.        , 0.        ,\n",
       "        1.        , 1.        , 1.        , 1.        , 1.        ,\n",
       "        0.        , 1.        , 1.        , 0.        , 1.        ,\n",
       "        1.        , 1.        , 1.        , 0.        , 0.60506449,\n",
       "        0.58040417, 0.54492833, 0.7266356 , 1.        , 1.        ,\n",
       "        0.        , 0.60506449, 0.58040417, 0.54492833, 0.7266356 ,\n",
       "        1.        , 1.        , 1.        , 1.        , 1.        ,\n",
       "        1.        , 0.        , 0.        , 1.        , 1.        ,\n",
       "        1.        , 1.        , 0.        , 0.        , 0.82079757,\n",
       "        1.        , 1.        , 1.        , 1.        , 0.73013201,\n",
       "        0.82079757, 1.        , 1.        , 1.        , 1.        ,\n",
       "        0.73013201, 0.        , 1.        , 1.        , 1.        ,\n",
       "        1.        , 0.        , 1.        , 1.        , 1.        ,\n",
       "        1.        , 1.        , 1.        , 0.89405665, 1.        ,\n",
       "        1.        , 0.89405665]),\n",
       " 'cluster_persistence': array([0.11618526, 0.        , 0.28996055, 0.02064896, 0.18796058,\n",
       "        0.15480054, 0.40631824, 0.64992567, 0.41580976, 0.60503141,\n",
       "        0.03430275, 0.10087206]),\n",
       " 'outlier': array([0.        , 0.02659196, 0.        , 0.        , 0.098764  ,\n",
       "        0.        , 0.        , 0.        , 0.        , 0.        ,\n",
       "        0.02659196, 0.        , 0.        , 0.098764  , 0.        ,\n",
       "        0.        , 0.        , 0.        , 0.04259344, 0.39493551,\n",
       "        0.41959583, 0.45507167, 0.2733644 , 0.        , 0.        ,\n",
       "        0.04259344, 0.39493551, 0.41959583, 0.45507167, 0.2733644 ,\n",
       "        0.        , 0.        , 0.        , 0.        , 0.        ,\n",
       "        0.        , 0.00147567, 0.01887235, 0.        , 0.        ,\n",
       "        0.        , 0.        , 0.00147567, 0.01887235, 0.17920243,\n",
       "        0.        , 0.        , 0.        , 0.        , 0.26986799,\n",
       "        0.17920243, 0.        , 0.        , 0.        , 0.        ,\n",
       "        0.26986799, 0.28274574, 0.        , 0.        , 0.        ,\n",
       "        0.        , 0.28274574, 0.        , 0.        , 0.        ,\n",
       "        0.        , 0.        , 0.        , 0.10594335, 0.        ,\n",
       "        0.        , 0.10594335]),\n",
       " 'min_clust': 2,\n",
       " 'model': HDBSCAN(core_dist_n_jobs=-1, min_cluster_size=2),\n",
       " 'max_d': 1.8627563748792557,\n",
       " 'max_d_lower': 1.833547669616549,\n",
       " 'max_d_upper': 1.8919650801419627}"
      ]
     },
     "execution_count": 16,
     "metadata": {},
     "output_type": "execute_result"
    }
   ],
   "source": [
    "results"
   ]
  },
  {
   "cell_type": "code",
   "execution_count": 17,
   "id": "1f2da36a",
   "metadata": {},
   "outputs": [
    {
     "data": {
      "text/plain": [
       "((<Figure size 576x288 with 2 Axes>,\n",
       "  <Figure size 576x288 with 2 Axes>,\n",
       "  <Figure size 576x288 with 2 Axes>),\n",
       " (<AxesSubplot:ylabel='distance'>,\n",
       "  <AxesSubplot:ylabel='$\\\\lambda$ value'>,\n",
       "  <AxesSubplot:ylabel='$\\\\lambda$ value'>))"
      ]
     },
     "execution_count": 17,
     "metadata": {},
     "output_type": "execute_result"
    },
    {
     "data": {
      "image/png": "[encoded data removed]",
      "text/plain": [
       "<Figure size 576x288 with 2 Axes>"
      ]
     },
     "metadata": {
      "needs_background": "light"
     },
     "output_type": "display_data"
    },
    {
     "data": {
      "image/png": "[encoded data removed]",
      "text/plain": [
       "<Figure size 576x288 with 2 Axes>"
      ]
     },
     "metadata": {
      "needs_background": "light"
     },
     "output_type": "display_data"
    },
    {
     "data": {
      "image/png": "[encoded data removed]",
      "text/plain": [
       "<Figure size 576x288 with 2 Axes>"
      ]
     },
     "metadata": {
      "needs_background": "light"
     },
     "output_type": "display_data"
    }
   ],
   "source": [
    "# Make plot of the cluster evaluation\n",
    "ce.plot(figsize=(8,4))\n"
   ]
  },
  {
   "cell_type": "code",
   "execution_count": 18,
   "id": "c88f1734",
   "metadata": {},
   "outputs": [
    {
     "name": "stdout",
     "output_type": "stream",
     "text": [
      "[clusteval] >Estimated number of n_clusters: 12, average silhouette_score=0.464\n"
     ]
    },
    {
     "data": {
      "image/png": "[encoded data removed]",
      "text/plain": [
       "<Figure size 1296x504 with 2 Axes>"
      ]
     },
     "metadata": {
      "needs_background": "light"
     },
     "output_type": "display_data"
    },
    {
     "data": {
      "text/plain": [
       "(<Figure size 1296x504 with 2 Axes>,\n",
       " <AxesSubplot:title={'center':'The silhouette plot for the various clusters'}, xlabel='The silhouette coefficient values', ylabel='Cluster label'>,\n",
       " <AxesSubplot:title={'center':'Estimated cluster labels'}, xlabel='1st feature', ylabel='2nd feature'>)"
      ]
     },
     "execution_count": 18,
     "metadata": {},
     "output_type": "execute_result"
    }
   ],
   "source": [
    "\n",
    "# Make scatter plot. Note that the first two coordinates are used for plotting.\n",
    "ce.scatter(normalized_embeddings,figsize=(8,4))\n",
    "\n"
   ]
  },
  {
   "cell_type": "code",
   "execution_count": 19,
   "id": "855f893b",
   "metadata": {},
   "outputs": [],
   "source": [
    "# results is a dict with various output statistics. One of them are the labels.\n",
    "cluster_labels = results['labx']"
   ]
  },
  {
   "cell_type": "code",
   "execution_count": 20,
   "id": "bbb0ba0b",
   "metadata": {},
   "outputs": [
    {
     "data": {
      "text/plain": [
       "array([ 0, -1,  3,  0, -1,  3,  1,  2,  2,  0, -1,  3,  0, -1,  3,  1,  2,\n",
       "        2, -1, 11, 11, 11, 11, 11, 11, -1, 11, 11, 11, 11, 11, 11,  7, 10,\n",
       "        7, 10, -1, -1,  7, 10,  7, 10, -1, -1,  4,  5,  4,  4,  5,  5,  4,\n",
       "        5,  4,  4,  5,  5, -1,  8,  8,  9,  9, -1,  8,  8,  9,  9,  6,  6,\n",
       "        6,  6,  6,  6])"
      ]
     },
     "execution_count": 20,
     "metadata": {},
     "output_type": "execute_result"
    }
   ],
   "source": [
    "cluster_labels"
   ]
  },
  {
   "cell_type": "code",
   "execution_count": 21,
   "id": "4669e208",
   "metadata": {},
   "outputs": [
    {
     "name": "stdout",
     "output_type": "stream",
     "text": [
      "[clusteval] >Plotting the dendrogram with optimized settings: metric=euclidean, linkage=ward, max_d=1.863. Be patient now..\n",
      "[clusteval] >Compute cluster labels.\n"
     ]
    },
    {
     "data": {
      "text/plain": [
       "{'icoord': [[5.0, 5.0, 15.0, 15.0],\n",
       "  [25.0, 25.0, 35.0, 35.0],\n",
       "  [45.0, 45.0, 55.0, 55.0],\n",
       "  [30.0, 30.0, 50.0, 50.0],\n",
       "  [10.0, 10.0, 40.0, 40.0],\n",
       "  [65.0, 65.0, 75.0, 75.0],\n",
       "  [85.0, 85.0, 95.0, 95.0],\n",
       "  [105.0, 105.0, 115.0, 115.0],\n",
       "  [90.0, 90.0, 110.0, 110.0],\n",
       "  [70.0, 70.0, 100.0, 100.0],\n",
       "  [125.0, 125.0, 135.0, 135.0],\n",
       "  [145.0, 145.0, 155.0, 155.0],\n",
       "  [130.0, 130.0, 150.0, 150.0],\n",
       "  [85.0, 85.0, 140.0, 140.0],\n",
       "  [25.0, 25.0, 112.5, 112.5],\n",
       "  [165.0, 165.0, 175.0, 175.0],\n",
       "  [185.0, 185.0, 195.0, 195.0],\n",
       "  [205.0, 205.0, 215.0, 215.0],\n",
       "  [190.0, 190.0, 210.0, 210.0],\n",
       "  [225.0, 225.0, 235.0, 235.0],\n",
       "  [245.0, 245.0, 255.0, 255.0],\n",
       "  [230.0, 230.0, 250.0, 250.0],\n",
       "  [200.0, 200.0, 240.0, 240.0],\n",
       "  [170.0, 170.0, 220.0, 220.0],\n",
       "  [265.0, 265.0, 275.0, 275.0],\n",
       "  [285.0, 285.0, 295.0, 295.0],\n",
       "  [305.0, 305.0, 315.0, 315.0],\n",
       "  [290.0, 290.0, 310.0, 310.0],\n",
       "  [270.0, 270.0, 300.0, 300.0],\n",
       "  [325.0, 325.0, 335.0, 335.0],\n",
       "  [345.0, 345.0, 355.0, 355.0],\n",
       "  [330.0, 330.0, 350.0, 350.0],\n",
       "  [285.0, 285.0, 340.0, 340.0],\n",
       "  [195.0, 195.0, 312.5, 312.5],\n",
       "  [365.0, 365.0, 375.0, 375.0],\n",
       "  [385.0, 385.0, 395.0, 395.0],\n",
       "  [405.0, 405.0, 415.0, 415.0],\n",
       "  [390.0, 390.0, 410.0, 410.0],\n",
       "  [370.0, 370.0, 400.0, 400.0],\n",
       "  [425.0, 425.0, 435.0, 435.0],\n",
       "  [445.0, 445.0, 455.0, 455.0],\n",
       "  [465.0, 465.0, 475.0, 475.0],\n",
       "  [450.0, 450.0, 470.0, 470.0],\n",
       "  [430.0, 430.0, 460.0, 460.0],\n",
       "  [485.0, 485.0, 495.0, 495.0],\n",
       "  [505.0, 505.0, 515.0, 515.0],\n",
       "  [490.0, 490.0, 510.0, 510.0],\n",
       "  [445.0, 445.0, 500.0, 500.0],\n",
       "  [385.0, 385.0, 472.5, 472.5],\n",
       "  [525.0, 525.0, 535.0, 535.0],\n",
       "  [545.0, 545.0, 555.0, 555.0],\n",
       "  [565.0, 565.0, 575.0, 575.0],\n",
       "  [550.0, 550.0, 570.0, 570.0],\n",
       "  [530.0, 530.0, 560.0, 560.0],\n",
       "  [585.0, 585.0, 595.0, 595.0],\n",
       "  [605.0, 605.0, 615.0, 615.0],\n",
       "  [625.0, 625.0, 635.0, 635.0],\n",
       "  [610.0, 610.0, 630.0, 630.0],\n",
       "  [590.0, 590.0, 620.0, 620.0],\n",
       "  [545.0, 545.0, 605.0, 605.0],\n",
       "  [645.0, 645.0, 655.0, 655.0],\n",
       "  [665.0, 665.0, 675.0, 675.0],\n",
       "  [650.0, 650.0, 670.0, 670.0],\n",
       "  [685.0, 685.0, 695.0, 695.0],\n",
       "  [705.0, 705.0, 715.0, 715.0],\n",
       "  [690.0, 690.0, 710.0, 710.0],\n",
       "  [660.0, 660.0, 700.0, 700.0],\n",
       "  [575.0, 575.0, 680.0, 680.0],\n",
       "  [428.75, 428.75, 627.5, 627.5],\n",
       "  [253.75, 253.75, 528.125, 528.125],\n",
       "  [68.75, 68.75, 390.9375, 390.9375]],\n",
       " 'dcoord': [[0.0, 0.0, 0.0, 0.0],\n",
       "  [0.0, 0.0, 0.0, 0.0],\n",
       "  [0.0, 0.0, 0.0, 0.0],\n",
       "  [0.0, 0.5223086948856916, 0.5223086948856916, 0.0],\n",
       "  [0.0, 0.7581724075977295, 0.7581724075977295, 0.5223086948856916],\n",
       "  [0.0, 0.0, 0.0, 0.0],\n",
       "  [0.0, 0.0, 0.0, 0.0],\n",
       "  [0.0, 0.0, 0.0, 0.0],\n",
       "  [0.0, 0.5539334418370259, 0.5539334418370259, 0.0],\n",
       "  [0.0, 0.82092417513125, 0.82092417513125, 0.5539334418370259],\n",
       "  [0.0, 0.0, 0.0, 0.0],\n",
       "  [0.0, 0.0, 0.0, 0.0],\n",
       "  [0.0, 1.0878596813477073, 1.0878596813477073, 0.0],\n",
       "  [0.82092417513125, 1.628877822357037, 1.628877822357037, 1.0878596813477073],\n",
       "  [0.7581724075977295,\n",
       "   1.969233671234659,\n",
       "   1.969233671234659,\n",
       "   1.628877822357037],\n",
       "  [0.0, 0.0, 0.0, 0.0],\n",
       "  [0.0, 0.0, 0.0, 0.0],\n",
       "  [0.0, 0.0, 0.0, 0.0],\n",
       "  [0.0, 0.25098831876153127, 0.25098831876153127, 0.0],\n",
       "  [0.0, 0.0, 0.0, 0.0],\n",
       "  [0.0, 0.0, 0.0, 0.0],\n",
       "  [0.0, 0.3136127721465106, 0.3136127721465106, 0.0],\n",
       "  [0.25098831876153127,\n",
       "   0.899077476350602,\n",
       "   0.899077476350602,\n",
       "   0.3136127721465106],\n",
       "  [0.0, 1.144318720829676, 1.144318720829676, 0.899077476350602],\n",
       "  [0.0, 0.0, 0.0, 0.0],\n",
       "  [0.0, 0.0, 0.0, 0.0],\n",
       "  [0.0, 0.0, 0.0, 0.0],\n",
       "  [0.0, 0.36243035720837047, 0.36243035720837047, 0.0],\n",
       "  [0.0, 0.5091776779075604, 0.5091776779075604, 0.36243035720837047],\n",
       "  [0.0, 0.0, 0.0, 0.0],\n",
       "  [0.0, 0.0, 0.0, 0.0],\n",
       "  [0.0, 1.1642591721368987, 1.1642591721368987, 0.0],\n",
       "  [0.5091776779075604,\n",
       "   1.6274615892524187,\n",
       "   1.6274615892524187,\n",
       "   1.1642591721368987],\n",
       "  [1.144318720829676,\n",
       "   1.9891132319801732,\n",
       "   1.9891132319801732,\n",
       "   1.6274615892524187],\n",
       "  [0.0, 0.0, 0.0, 0.0],\n",
       "  [0.0, 0.0, 0.0, 0.0],\n",
       "  [0.0, 0.0, 0.0, 0.0],\n",
       "  [0.0, 0.8583113519751051, 0.8583113519751051, 0.0],\n",
       "  [0.0, 1.833547669616549, 1.833547669616549, 0.8583113519751051],\n",
       "  [0.0, 0.0, 0.0, 0.0],\n",
       "  [0.0, 0.0, 0.0, 0.0],\n",
       "  [0.0, 0.0, 0.0, 0.0],\n",
       "  [0.0, 0.4911425282158547, 0.4911425282158547, 0.0],\n",
       "  [0.0, 1.3534672585029577, 1.3534672585029577, 0.4911425282158547],\n",
       "  [0.0, 0.0, 0.0, 0.0],\n",
       "  [0.0, 0.0, 0.0, 0.0],\n",
       "  [0.0, 1.6418669516011528, 1.6418669516011528, 0.0],\n",
       "  [1.3534672585029577,\n",
       "   1.8919650801419627,\n",
       "   1.8919650801419627,\n",
       "   1.6418669516011528],\n",
       "  [1.833547669616549,\n",
       "   2.4099988072197007,\n",
       "   2.4099988072197007,\n",
       "   1.8919650801419627],\n",
       "  [0.0, 0.0, 0.0, 0.0],\n",
       "  [0.0, 0.0, 0.0, 0.0],\n",
       "  [0.0, 0.0, 0.0, 0.0],\n",
       "  [0.0, 0.5652708453099092, 0.5652708453099092, 0.0],\n",
       "  [0.0, 0.8794949572080958, 0.8794949572080958, 0.5652708453099092],\n",
       "  [0.0, 0.0, 0.0, 0.0],\n",
       "  [0.0, 0.0, 0.0, 0.0],\n",
       "  [0.0, 0.0, 0.0, 0.0],\n",
       "  [0.0, 0.987840369796674, 0.987840369796674, 0.0],\n",
       "  [0.0, 1.076443288026403, 1.076443288026403, 0.987840369796674],\n",
       "  [0.8794949572080958,\n",
       "   1.3649539539481768,\n",
       "   1.3649539539481768,\n",
       "   1.076443288026403],\n",
       "  [0.0, 0.0, 0.0, 0.0],\n",
       "  [0.0, 0.0, 0.0, 0.0],\n",
       "  [0.0, 0.2911807451952322, 0.2911807451952322, 0.0],\n",
       "  [0.0, 0.0, 0.0, 0.0],\n",
       "  [0.0, 0.0, 0.0, 0.0],\n",
       "  [0.0, 1.0224070879212706, 1.0224070879212706, 0.0],\n",
       "  [0.2911807451952322,\n",
       "   1.5467021368826428,\n",
       "   1.5467021368826428,\n",
       "   1.0224070879212706],\n",
       "  [1.3649539539481768,\n",
       "   2.503886815564078,\n",
       "   2.503886815564078,\n",
       "   1.5467021368826428],\n",
       "  [2.4099988072197007,\n",
       "   2.994507427327346,\n",
       "   2.994507427327346,\n",
       "   2.503886815564078],\n",
       "  [1.9891132319801732,\n",
       "   3.1477276677584376,\n",
       "   3.1477276677584376,\n",
       "   2.994507427327346],\n",
       "  [1.969233671234659,\n",
       "   3.4339579235498787,\n",
       "   3.4339579235498787,\n",
       "   3.1477276677584376]],\n",
       " 'ivl': ['44',\n",
       "  '50',\n",
       "  '47',\n",
       "  '53',\n",
       "  '46',\n",
       "  '52',\n",
       "  '49',\n",
       "  '55',\n",
       "  '48',\n",
       "  '54',\n",
       "  '45',\n",
       "  '51',\n",
       "  '2',\n",
       "  '11',\n",
       "  '5',\n",
       "  '14',\n",
       "  '56',\n",
       "  '61',\n",
       "  '59',\n",
       "  '64',\n",
       "  '60',\n",
       "  '65',\n",
       "  '57',\n",
       "  '62',\n",
       "  '58',\n",
       "  '63',\n",
       "  '68',\n",
       "  '71',\n",
       "  '67',\n",
       "  '70',\n",
       "  '66',\n",
       "  '69',\n",
       "  '36',\n",
       "  '42',\n",
       "  '37',\n",
       "  '43',\n",
       "  '4',\n",
       "  '13',\n",
       "  '0',\n",
       "  '9',\n",
       "  '3',\n",
       "  '12',\n",
       "  '6',\n",
       "  '15',\n",
       "  '7',\n",
       "  '16',\n",
       "  '8',\n",
       "  '17',\n",
       "  '1',\n",
       "  '10',\n",
       "  '18',\n",
       "  '25',\n",
       "  '22',\n",
       "  '29',\n",
       "  '24',\n",
       "  '31',\n",
       "  '23',\n",
       "  '30',\n",
       "  '21',\n",
       "  '28',\n",
       "  '20',\n",
       "  '27',\n",
       "  '19',\n",
       "  '26',\n",
       "  '32',\n",
       "  '38',\n",
       "  '34',\n",
       "  '40',\n",
       "  '35',\n",
       "  '41',\n",
       "  '33',\n",
       "  '39'],\n",
       " 'leaves': [44,\n",
       "  50,\n",
       "  47,\n",
       "  53,\n",
       "  46,\n",
       "  52,\n",
       "  49,\n",
       "  55,\n",
       "  48,\n",
       "  54,\n",
       "  45,\n",
       "  51,\n",
       "  2,\n",
       "  11,\n",
       "  5,\n",
       "  14,\n",
       "  56,\n",
       "  61,\n",
       "  59,\n",
       "  64,\n",
       "  60,\n",
       "  65,\n",
       "  57,\n",
       "  62,\n",
       "  58,\n",
       "  63,\n",
       "  68,\n",
       "  71,\n",
       "  67,\n",
       "  70,\n",
       "  66,\n",
       "  69,\n",
       "  36,\n",
       "  42,\n",
       "  37,\n",
       "  43,\n",
       "  4,\n",
       "  13,\n",
       "  0,\n",
       "  9,\n",
       "  3,\n",
       "  12,\n",
       "  6,\n",
       "  15,\n",
       "  7,\n",
       "  16,\n",
       "  8,\n",
       "  17,\n",
       "  1,\n",
       "  10,\n",
       "  18,\n",
       "  25,\n",
       "  22,\n",
       "  29,\n",
       "  24,\n",
       "  31,\n",
       "  23,\n",
       "  30,\n",
       "  21,\n",
       "  28,\n",
       "  20,\n",
       "  27,\n",
       "  19,\n",
       "  26,\n",
       "  32,\n",
       "  38,\n",
       "  34,\n",
       "  40,\n",
       "  35,\n",
       "  41,\n",
       "  33,\n",
       "  39],\n",
       " 'color_list': ['C1',\n",
       "  'C1',\n",
       "  'C1',\n",
       "  'C1',\n",
       "  'C1',\n",
       "  'C2',\n",
       "  'C2',\n",
       "  'C2',\n",
       "  'C2',\n",
       "  'C2',\n",
       "  'C2',\n",
       "  'C2',\n",
       "  'C2',\n",
       "  'C2',\n",
       "  'C0',\n",
       "  'C3',\n",
       "  'C3',\n",
       "  'C3',\n",
       "  'C3',\n",
       "  'C3',\n",
       "  'C3',\n",
       "  'C3',\n",
       "  'C3',\n",
       "  'C3',\n",
       "  'C4',\n",
       "  'C4',\n",
       "  'C4',\n",
       "  'C4',\n",
       "  'C4',\n",
       "  'C4',\n",
       "  'C4',\n",
       "  'C4',\n",
       "  'C4',\n",
       "  'C0',\n",
       "  'C5',\n",
       "  'C5',\n",
       "  'C5',\n",
       "  'C5',\n",
       "  'C5',\n",
       "  'C6',\n",
       "  'C6',\n",
       "  'C6',\n",
       "  'C6',\n",
       "  'C6',\n",
       "  'C7',\n",
       "  'C7',\n",
       "  'C7',\n",
       "  'C0',\n",
       "  'C0',\n",
       "  'C8',\n",
       "  'C8',\n",
       "  'C8',\n",
       "  'C8',\n",
       "  'C8',\n",
       "  'C8',\n",
       "  'C8',\n",
       "  'C8',\n",
       "  'C8',\n",
       "  'C8',\n",
       "  'C8',\n",
       "  'C9',\n",
       "  'C9',\n",
       "  'C9',\n",
       "  'C9',\n",
       "  'C9',\n",
       "  'C9',\n",
       "  'C9',\n",
       "  'C0',\n",
       "  'C0',\n",
       "  'C0',\n",
       "  'C0'],\n",
       " 'order_rows': array(['44', '50', '47', '53', '46', '52', '49', '55', '48', '54', '45',\n",
       "        '51', '2', '11', '5', '14', '56', '61', '59', '64', '60', '65',\n",
       "        '57', '62', '58', '63', '68', '71', '67', '70', '66', '69', '36',\n",
       "        '42', '37', '43', '4', '13', '0', '9', '3', '12', '6', '15', '7',\n",
       "        '16', '8', '17', '1', '10', '18', '25', '22', '29', '24', '31',\n",
       "        '23', '30', '21', '28', '20', '27', '19', '26', '32', '38', '34',\n",
       "        '40', '35', '41', '33', '39'], dtype='<U2'),\n",
       " 'labx': array([5, 7, 2, 5, 5, 2, 6, 6, 6, 5, 7, 2, 5, 5, 2, 6, 6, 6, 7, 8, 8, 8,\n",
       "        8, 8, 8, 7, 8, 8, 8, 8, 8, 8, 9, 9, 9, 9, 4, 4, 9, 9, 9, 9, 4, 4,\n",
       "        1, 2, 1, 1, 2, 2, 1, 2, 1, 1, 2, 2, 3, 3, 3, 3, 3, 3, 3, 3, 3, 3,\n",
       "        4, 4, 4, 4, 4, 4], dtype=int32),\n",
       " 'max_d': 1.8627563748792557,\n",
       " 'max_d_lower': 1.833547669616549,\n",
       " 'max_d_upper': 1.8919650801419627,\n",
       " 'ax': <AxesSubplot:title={'center':'Hierarchical Clustering Dendrogram'}, xlabel='Samples', ylabel='distance'>}"
      ]
     },
     "execution_count": 21,
     "metadata": {},
     "output_type": "execute_result"
    },
    {
     "data": {
      "image/png": "[encoded data removed]",
      "text/plain": [
       "<Figure size 1080x720 with 1 Axes>"
      ]
     },
     "metadata": {
      "needs_background": "light"
     },
     "output_type": "display_data"
    }
   ],
   "source": [
    "ce.dendrogram()"
   ]
  },
  {
   "cell_type": "code",
   "execution_count": 22,
   "id": "0111090f",
   "metadata": {},
   "outputs": [
    {
     "data": {
      "text/html": [
       "<div>\n",
       "<style scoped>\n",
       "    .dataframe tbody tr th:only-of-type {\n",
       "        vertical-align: middle;\n",
       "    }\n",
       "\n",
       "    .dataframe tbody tr th {\n",
       "        vertical-align: top;\n",
       "    }\n",
       "\n",
       "    .dataframe thead th {\n",
       "        text-align: right;\n",
       "    }\n",
       "</style>\n",
       "<table border=\"1\" class=\"dataframe\">\n",
       "  <thead>\n",
       "    <tr style=\"text-align: right;\">\n",
       "      <th></th>\n",
       "      <th>CASE_NUMBER</th>\n",
       "      <th>_TEXT_LONG</th>\n",
       "      <th>hdbscan_labels</th>\n",
       "    </tr>\n",
       "  </thead>\n",
       "  <tbody>\n",
       "    <tr>\n",
       "      <th>51235</th>\n",
       "      <td>90425077</td>\n",
       "      <td>During PSSR walkdown it was found that MR05050...</td>\n",
       "      <td>0</td>\n",
       "    </tr>\n",
       "    <tr>\n",
       "      <th>51847</th>\n",
       "      <td>90425689</td>\n",
       "      <td>During operation of Block 2A and 2B it was fou...</td>\n",
       "      <td>-1</td>\n",
       "    </tr>\n",
       "    <tr>\n",
       "      <th>52066</th>\n",
       "      <td>90425908</td>\n",
       "      <td>RFI01912 Removed motor tagged 10405BMF501A BAD...</td>\n",
       "      <td>3</td>\n",
       "    </tr>\n",
       "    <tr>\n",
       "      <th>52324</th>\n",
       "      <td>90426166</td>\n",
       "      <td>During PSSR walkdown it was found that lines N...</td>\n",
       "      <td>0</td>\n",
       "    </tr>\n",
       "    <tr>\n",
       "      <th>52656</th>\n",
       "      <td>90426499</td>\n",
       "      <td>During an insulation focused walk items were f...</td>\n",
       "      <td>-1</td>\n",
       "    </tr>\n",
       "  </tbody>\n",
       "</table>\n",
       "</div>"
      ],
      "text/plain": [
       "       CASE_NUMBER                                         _TEXT_LONG  \\\n",
       "51235     90425077  During PSSR walkdown it was found that MR05050...   \n",
       "51847     90425689  During operation of Block 2A and 2B it was fou...   \n",
       "52066     90425908  RFI01912 Removed motor tagged 10405BMF501A BAD...   \n",
       "52324     90426166  During PSSR walkdown it was found that lines N...   \n",
       "52656     90426499  During an insulation focused walk items were f...   \n",
       "\n",
       "       hdbscan_labels  \n",
       "51235               0  \n",
       "51847              -1  \n",
       "52066               3  \n",
       "52324               0  \n",
       "52656              -1  "
      ]
     },
     "execution_count": 22,
     "metadata": {},
     "output_type": "execute_result"
    }
   ],
   "source": [
    "clustered_df.head()"
   ]
  },
  {
   "cell_type": "code",
   "execution_count": null,
   "id": "bab61174",
   "metadata": {},
   "outputs": [],
   "source": []
  }
 ],
 "metadata": {
  "kernelspec": {
   "display_name": "Python 3 (ipykernel)",
   "language": "python",
   "name": "python3"
  },
  "language_info": {
   "codemirror_mode": {
    "name": "ipython",
    "version": 3
   },
   "file_extension": ".py",
   "mimetype": "text/x-python",
   "name": "python",
   "nbconvert_exporter": "python",
   "pygments_lexer": "ipython3",
   "version": "3.8.10"
  },
  "varInspector": {
   "cols": {
    "lenName": 16,
    "lenType": 16,
    "lenVar": 40
   },
   "kernels_config": {
    "python": {
     "delete_cmd_postfix": "",
     "delete_cmd_prefix": "del ",
     "library": "var_list.py",
     "varRefreshCmd": "print(var_dic_list())"
    },
    "r": {
     "delete_cmd_postfix": ") ",
     "delete_cmd_prefix": "rm(",
     "library": "var_list.r",
     "varRefreshCmd": "cat(var_dic_list()) "
    }
   },
   "types_to_exclude": [
    "module",
    "function",
    "builtin_function_or_method",
    "instance",
    "_Feature"
   ],
   "window_display": false
  }
 },
 "nbformat": 4,
 "nbformat_minor": 5
}
