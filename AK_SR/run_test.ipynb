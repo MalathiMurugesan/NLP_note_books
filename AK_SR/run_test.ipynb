{
 "cells": [
  {
   "cell_type": "code",
   "execution_count": 9,
   "id": "001b376a",
   "metadata": {},
   "outputs": [
    {
     "name": "stdout",
     "output_type": "stream",
     "text": [
      "Collecting pandas==1.2.4\n",
      "  Using cached pandas-1.2.4-cp38-cp38-manylinux1_x86_64.whl (9.7 MB)\n",
      "Collecting numpy==1.20.3\n",
      "  Using cached numpy-1.20.3-cp38-cp38-manylinux_2_12_x86_64.manylinux2010_x86_64.whl (15.4 MB)\n",
      "Collecting nltk==3.4.5\n",
      "  Using cached nltk-3.4.5.zip (1.5 MB)\n",
      "Collecting sentence_transformers==2.1.0\n",
      "  Using cached sentence-transformers-2.1.0.tar.gz (78 kB)\n",
      "Collecting Flask==2.0.1\n",
      "  Using cached Flask-2.0.1-py3-none-any.whl (94 kB)\n",
      "Collecting sqlalchemy==1.4.24\n",
      "  Using cached SQLAlchemy-1.4.24-cp38-cp38-manylinux_2_5_x86_64.manylinux1_x86_64.manylinux_2_17_x86_64.manylinux2014_x86_64.whl (1.6 MB)\n",
      "Collecting PyMySQL\n",
      "  Downloading PyMySQL-1.0.2-py3-none-any.whl (43 kB)\n",
      "\u001b[K     |████████████████████████████████| 43 kB 549 kB/s eta 0:00:01\n",
      "\u001b[?25hRequirement already satisfied: JayDeBeApi==1.2.3 in /usr/local/lib/python3.8/dist-packages (from -r requirements.txt (line 8)) (1.2.3)\n",
      "Collecting pytest==6.2.5\n",
      "  Downloading pytest-6.2.5-py3-none-any.whl (280 kB)\n",
      "\u001b[K     |████████████████████████████████| 280 kB 2.4 MB/s eta 0:00:01\n",
      "\u001b[?25hCollecting schedule==1.1.0\n",
      "  Downloading schedule-1.1.0-py2.py3-none-any.whl (10 kB)\n",
      "Collecting hdbscan==0.8.27\n",
      "  Downloading hdbscan-0.8.27.tar.gz (6.4 MB)\n",
      "\u001b[K     |████████████████████████████████| 6.4 MB 53.7 MB/s eta 0:00:01\n",
      "\u001b[?25h  Installing build dependencies ... \u001b[?25ldone\n",
      "\u001b[?25h  Getting requirements to build wheel ... \u001b[?25ldone\n",
      "\u001b[?25h    Preparing wheel metadata ... \u001b[?25ldone\n",
      "\u001b[?25hRequirement already satisfied: pytz>=2017.3 in /usr/local/lib/python3.8/dist-packages (from pandas==1.2.4->-r requirements.txt (line 1)) (2021.3)\n",
      "Requirement already satisfied: python-dateutil>=2.7.3 in /usr/local/lib/python3.8/dist-packages (from pandas==1.2.4->-r requirements.txt (line 1)) (2.8.2)\n",
      "Requirement already satisfied: six in /usr/local/lib/python3.8/dist-packages (from nltk==3.4.5->-r requirements.txt (line 3)) (1.15.0)\n",
      "Requirement already satisfied: transformers<5.0.0,>=4.6.0 in /usr/local/lib/python3.8/dist-packages (from sentence_transformers==2.1.0->-r requirements.txt (line 4)) (4.16.2)\n",
      "Requirement already satisfied: tokenizers>=0.10.3 in /usr/local/lib/python3.8/dist-packages (from sentence_transformers==2.1.0->-r requirements.txt (line 4)) (0.11.6)\n",
      "Requirement already satisfied: tqdm in /usr/local/lib/python3.8/dist-packages (from sentence_transformers==2.1.0->-r requirements.txt (line 4)) (4.62.3)\n",
      "Requirement already satisfied: torch>=1.6.0 in /usr/local/lib/python3.8/dist-packages (from sentence_transformers==2.1.0->-r requirements.txt (line 4)) (1.10.2)\n",
      "Requirement already satisfied: torchvision in /usr/local/lib/python3.8/dist-packages (from sentence_transformers==2.1.0->-r requirements.txt (line 4)) (0.11.3)\n",
      "Requirement already satisfied: scikit-learn in /usr/local/lib/python3.8/dist-packages (from sentence_transformers==2.1.0->-r requirements.txt (line 4)) (1.0.2)\n",
      "Requirement already satisfied: scipy in /usr/local/lib/python3.8/dist-packages (from sentence_transformers==2.1.0->-r requirements.txt (line 4)) (1.7.3)\n",
      "Requirement already satisfied: sentencepiece in /usr/local/lib/python3.8/dist-packages (from sentence_transformers==2.1.0->-r requirements.txt (line 4)) (0.1.96)\n",
      "Requirement already satisfied: huggingface-hub in /usr/local/lib/python3.8/dist-packages (from sentence_transformers==2.1.0->-r requirements.txt (line 4)) (0.4.0)\n",
      "Requirement already satisfied: Jinja2>=3.0 in /usr/local/lib/python3.8/dist-packages (from Flask==2.0.1->-r requirements.txt (line 5)) (3.0.2)\n",
      "Requirement already satisfied: itsdangerous>=2.0 in /usr/local/lib/python3.8/dist-packages (from Flask==2.0.1->-r requirements.txt (line 5)) (2.0.1)\n",
      "Requirement already satisfied: click>=7.1.2 in /usr/local/lib/python3.8/dist-packages (from Flask==2.0.1->-r requirements.txt (line 5)) (8.0.2)\n",
      "Requirement already satisfied: Werkzeug>=2.0 in /usr/local/lib/python3.8/dist-packages (from Flask==2.0.1->-r requirements.txt (line 5)) (2.0.2)\n",
      "Requirement already satisfied: greenlet!=0.4.17 in /usr/local/lib/python3.8/dist-packages (from sqlalchemy==1.4.24->-r requirements.txt (line 6)) (1.1.2)\n",
      "Requirement already satisfied: JPype1 in /usr/local/lib/python3.8/dist-packages (from JayDeBeApi==1.2.3->-r requirements.txt (line 8)) (1.3.0)\n",
      "Requirement already satisfied: attrs>=19.2.0 in /usr/local/lib/python3.8/dist-packages (from pytest==6.2.5->-r requirements.txt (line 9)) (21.2.0)\n",
      "Requirement already satisfied: iniconfig in /usr/local/lib/python3.8/dist-packages (from pytest==6.2.5->-r requirements.txt (line 9)) (1.1.1)\n",
      "Requirement already satisfied: py>=1.8.2 in /usr/local/lib/python3.8/dist-packages (from pytest==6.2.5->-r requirements.txt (line 9)) (1.11.0)\n",
      "Requirement already satisfied: toml in /usr/local/lib/python3.8/dist-packages (from pytest==6.2.5->-r requirements.txt (line 9)) (0.10.2)\n",
      "Requirement already satisfied: pluggy<2.0,>=0.12 in /usr/local/lib/python3.8/dist-packages (from pytest==6.2.5->-r requirements.txt (line 9)) (1.0.0)\n",
      "Requirement already satisfied: packaging in /usr/local/lib/python3.8/dist-packages (from pytest==6.2.5->-r requirements.txt (line 9)) (21.0)\n",
      "Requirement already satisfied: joblib>=1.0 in /usr/local/lib/python3.8/dist-packages (from hdbscan==0.8.27->-r requirements.txt (line 11)) (1.1.0)\n",
      "Collecting cython>=0.27\n",
      "  Using cached Cython-0.29.28-cp38-cp38-manylinux_2_17_x86_64.manylinux2014_x86_64.manylinux_2_24_x86_64.whl (1.9 MB)\n",
      "Requirement already satisfied: MarkupSafe>=2.0 in /usr/local/lib/python3.8/dist-packages (from Jinja2>=3.0->Flask==2.0.1->-r requirements.txt (line 5)) (2.0.1)\n",
      "Requirement already satisfied: threadpoolctl>=2.0.0 in /usr/local/lib/python3.8/dist-packages (from scikit-learn->sentence_transformers==2.1.0->-r requirements.txt (line 4)) (3.0.0)\n",
      "Requirement already satisfied: typing-extensions in /usr/local/lib/python3.8/dist-packages (from torch>=1.6.0->sentence_transformers==2.1.0->-r requirements.txt (line 4)) (3.7.4.3)\n",
      "Requirement already satisfied: filelock in /usr/local/lib/python3.8/dist-packages (from transformers<5.0.0,>=4.6.0->sentence_transformers==2.1.0->-r requirements.txt (line 4)) (3.6.0)\n",
      "Requirement already satisfied: pyyaml>=5.1 in /usr/local/lib/python3.8/dist-packages (from transformers<5.0.0,>=4.6.0->sentence_transformers==2.1.0->-r requirements.txt (line 4)) (5.4.1)\n",
      "Requirement already satisfied: regex!=2019.12.17 in /usr/local/lib/python3.8/dist-packages (from transformers<5.0.0,>=4.6.0->sentence_transformers==2.1.0->-r requirements.txt (line 4)) (2021.10.8)\n",
      "Requirement already satisfied: sacremoses in /usr/local/lib/python3.8/dist-packages (from transformers<5.0.0,>=4.6.0->sentence_transformers==2.1.0->-r requirements.txt (line 4)) (0.0.47)\n",
      "Requirement already satisfied: requests in /usr/local/lib/python3.8/dist-packages (from transformers<5.0.0,>=4.6.0->sentence_transformers==2.1.0->-r requirements.txt (line 4)) (2.26.0)\n",
      "Requirement already satisfied: pyparsing>=2.0.2 in /usr/local/lib/python3.8/dist-packages (from packaging->pytest==6.2.5->-r requirements.txt (line 9)) (2.4.7)\n",
      "Requirement already satisfied: certifi>=2017.4.17 in /usr/local/lib/python3.8/dist-packages (from requests->transformers<5.0.0,>=4.6.0->sentence_transformers==2.1.0->-r requirements.txt (line 4)) (2021.10.8)\n",
      "Requirement already satisfied: urllib3<1.27,>=1.21.1 in /usr/local/lib/python3.8/dist-packages (from requests->transformers<5.0.0,>=4.6.0->sentence_transformers==2.1.0->-r requirements.txt (line 4)) (1.26.7)\n",
      "Requirement already satisfied: idna<4,>=2.5 in /usr/local/lib/python3.8/dist-packages (from requests->transformers<5.0.0,>=4.6.0->sentence_transformers==2.1.0->-r requirements.txt (line 4)) (3.2)\n",
      "Requirement already satisfied: charset-normalizer~=2.0.0 in /usr/local/lib/python3.8/dist-packages (from requests->transformers<5.0.0,>=4.6.0->sentence_transformers==2.1.0->-r requirements.txt (line 4)) (2.0.6)\n",
      "Requirement already satisfied: pillow!=8.3.0,>=5.3.0 in /usr/local/lib/python3.8/dist-packages (from torchvision->sentence_transformers==2.1.0->-r requirements.txt (line 4)) (8.2.0)\n",
      "Building wheels for collected packages: nltk, sentence-transformers, hdbscan\n",
      "  Building wheel for nltk (setup.py) ... \u001b[?25ldone\n",
      "\u001b[?25h  Created wheel for nltk: filename=nltk-3.4.5-py3-none-any.whl size=1449921 sha256=671010f9d79e1c1743f0c8abfea3a5b893134e3cc0696714e77799db40d18fde\n",
      "  Stored in directory: /root/.cache/pip/wheels/23/18/48/8fd6ec11da38406b309470566d6f099c04805d2ec61d7829e7\n"
     ]
    },
    {
     "name": "stdout",
     "output_type": "stream",
     "text": [
      "  Building wheel for sentence-transformers (setup.py) ... \u001b[?25ldone\n",
      "\u001b[?25h  Created wheel for sentence-transformers: filename=sentence_transformers-2.1.0-py3-none-any.whl size=121000 sha256=7245ebfe242b18e8e75f1ac2ad01f7ef541158fa219c862aeb697067589ae0bf\n",
      "  Stored in directory: /root/.cache/pip/wheels/52/19/88/6625593382e23a926740e6fcee0f2df0a0de25766094842a28\n",
      "  Building wheel for hdbscan (PEP 517) ... \u001b[?25ldone\n",
      "\u001b[?25h  Created wheel for hdbscan: filename=hdbscan-0.8.27-cp38-cp38-linux_x86_64.whl size=3728732 sha256=9588ed972a2584632a06450727f406cf696327b49124e2e5043a03f7467290ee\n",
      "  Stored in directory: /root/.cache/pip/wheels/26/f2/c2/eab587fff76dc9ffc9a9bf3ca0e44e26d2ef6425264492df65\n",
      "Successfully built nltk sentence-transformers hdbscan\n",
      "Installing collected packages: numpy, nltk, cython, sqlalchemy, sentence-transformers, schedule, pytest, PyMySQL, pandas, hdbscan, Flask\n",
      "  Attempting uninstall: numpy\n",
      "    Found existing installation: numpy 1.19.4\n",
      "    Uninstalling numpy-1.19.4:\n",
      "      Successfully uninstalled numpy-1.19.4\n",
      "  Attempting uninstall: nltk\n",
      "    Found existing installation: nltk 3.6.4\n",
      "    Uninstalling nltk-3.6.4:\n",
      "      Successfully uninstalled nltk-3.6.4\n",
      "  Attempting uninstall: sqlalchemy\n",
      "    Found existing installation: SQLAlchemy 1.4.29\n",
      "    Uninstalling SQLAlchemy-1.4.29:\n",
      "      Successfully uninstalled SQLAlchemy-1.4.29\n",
      "  Attempting uninstall: sentence-transformers\n",
      "    Found existing installation: sentence-transformers 2.2.0\n",
      "    Uninstalling sentence-transformers-2.2.0:\n",
      "      Successfully uninstalled sentence-transformers-2.2.0\n",
      "  Attempting uninstall: pytest\n",
      "    Found existing installation: pytest 7.0.1\n",
      "    Uninstalling pytest-7.0.1:\n",
      "      Successfully uninstalled pytest-7.0.1\n",
      "  Attempting uninstall: pandas\n",
      "    Found existing installation: pandas 1.3.5\n",
      "    Uninstalling pandas-1.3.5:\n",
      "      Successfully uninstalled pandas-1.3.5\n",
      "  Attempting uninstall: Flask\n",
      "    Found existing installation: Flask 2.0.2\n",
      "    Uninstalling Flask-2.0.2:\n",
      "      Successfully uninstalled Flask-2.0.2\n",
      "\u001b[31mERROR: pip's dependency resolver does not currently take into account all the packages that are installed. This behaviour is the source of the following dependency conflicts.\n",
      "tensorflow 2.6.0+nv requires numpy~=1.19.2, but you have numpy 1.20.3 which is incompatible.\u001b[0m\n",
      "Successfully installed Flask-2.0.1 PyMySQL-1.0.2 cython-0.29.28 hdbscan-0.8.27 nltk-3.4.5 numpy-1.20.3 pandas-1.2.4 pytest-6.2.5 schedule-1.1.0 sentence-transformers-2.1.0 sqlalchemy-1.4.24\n",
      "\u001b[33mWARNING: Running pip as the 'root' user can result in broken permissions and conflicting behaviour with the system package manager. It is recommended to use a virtual environment instead: https://pip.pypa.io/warnings/venv\u001b[0m\n",
      "\u001b[33mWARNING: You are using pip version 21.2.4; however, version 22.0.3 is available.\n",
      "You should consider upgrading via the '/usr/bin/python -m pip install --upgrade pip' command.\u001b[0m\n"
     ]
    }
   ],
   "source": [
    "!pip install -r requirements.txt"
   ]
  },
  {
   "cell_type": "code",
   "execution_count": 1,
   "id": "a9d1567a",
   "metadata": {},
   "outputs": [],
   "source": [
    "import sys\n",
    "sys.path.append(\"..\")\n",
    "sys.path.append(\"./tests\")"
   ]
  },
  {
   "cell_type": "code",
   "execution_count": null,
   "id": "40410796",
   "metadata": {},
   "outputs": [],
   "source": []
  },
  {
   "cell_type": "code",
   "execution_count": 2,
   "id": "e0d43803",
   "metadata": {},
   "outputs": [
    {
     "name": "stdout",
     "output_type": "stream",
     "text": [
      "loading env_variables.yml\n",
      "var loaded\n",
      "statrting flask\n"
     ]
    }
   ],
   "source": [
    "from test_clustering import *"
   ]
  },
  {
   "cell_type": "code",
   "execution_count": 3,
   "id": "1e7934af",
   "metadata": {},
   "outputs": [],
   "source": [
    "test_clustering_output()"
   ]
  },
  {
   "cell_type": "code",
   "execution_count": null,
   "id": "f5b6a088",
   "metadata": {},
   "outputs": [],
   "source": []
  }
 ],
 "metadata": {
  "kernelspec": {
   "display_name": "Python 3 (ipykernel)",
   "language": "python",
   "name": "python3"
  },
  "language_info": {
   "codemirror_mode": {
    "name": "ipython",
    "version": 3
   },
   "file_extension": ".py",
   "mimetype": "text/x-python",
   "name": "python",
   "nbconvert_exporter": "python",
   "pygments_lexer": "ipython3",
   "version": "3.8.10"
  },
  "varInspector": {
   "cols": {
    "lenName": 16,
    "lenType": 16,
    "lenVar": 40
   },
   "kernels_config": {
    "python": {
     "delete_cmd_postfix": "",
     "delete_cmd_prefix": "del ",
     "library": "var_list.py",
     "varRefreshCmd": "print(var_dic_list())"
    },
    "r": {
     "delete_cmd_postfix": ") ",
     "delete_cmd_prefix": "rm(",
     "library": "var_list.r",
     "varRefreshCmd": "cat(var_dic_list()) "
    }
   },
   "types_to_exclude": [
    "module",
    "function",
    "builtin_function_or_method",
    "instance",
    "_Feature"
   ],
   "window_display": false
  }
 },
 "nbformat": 4,
 "nbformat_minor": 5
}
