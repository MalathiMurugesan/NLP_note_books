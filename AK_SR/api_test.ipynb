{
 "cells": [
  {
   "cell_type": "code",
   "execution_count": 12,
   "id": "e45b8f82",
   "metadata": {},
   "outputs": [],
   "source": [
    "import requests\n",
    "import json\n",
    "\n",
    "host = 'http://localhost:8000'"
   ]
  },
  {
   "cell_type": "markdown",
   "id": "af600879",
   "metadata": {},
   "source": [
    "## Health engine"
   ]
  },
  {
   "cell_type": "code",
   "execution_count": 13,
   "id": "5719ea1b",
   "metadata": {},
   "outputs": [
    {
     "name": "stdout",
     "output_type": "stream",
     "text": [
      "b'SR API is running!'\n"
     ]
    }
   ],
   "source": [
    "url = f'{host}/health'\n",
    "r = requests.get(url.format(host))\n",
    "print(r.content)"
   ]
  },
  {
   "cell_type": "code",
   "execution_count": 14,
   "id": "c5e19344",
   "metadata": {},
   "outputs": [
    {
     "name": "stdout",
     "output_type": "stream",
     "text": [
      "b'{}\\n'\n"
     ]
    }
   ],
   "source": [
    "url = f'{host}/list/cache'\n",
    "r = requests.get(url.format(host))\n",
    "print(r.content)"
   ]
  },
  {
   "cell_type": "markdown",
   "id": "2b288530",
   "metadata": {},
   "source": [
    "## Similrity Queue"
   ]
  },
  {
   "cell_type": "code",
   "execution_count": 15,
   "id": "0d5a5d95",
   "metadata": {},
   "outputs": [
    {
     "name": "stdout",
     "output_type": "stream",
     "text": [
      "b'{\"Similarity request accepted\":\"d03c0986-e91b-443b-b569-9517ca252eff\"}\\n'\n"
     ]
    }
   ],
   "source": [
    "body = {\n",
    "    \"searchID\": \"d03c0986-e91b-443b-b569-9517ca252eff\",\n",
    "    \"searchDocuments\": [\n",
    "        {\n",
    "            \"caseNumber\": None,\n",
    "            \"problemDescription\": None,\n",
    "            \"solutionDescription\": None,\n",
    "            \"firstReplySolution\": None,\n",
    "            \"expertAssesmentDescription\": None,\n",
    "            \"defectiveSystem\": None,\n",
    "            \"defectiveGroup\": None,\n",
    "            \"defectiveComponent\": None,\n",
    "            \"additionalInformation\": None,\n",
    "            \"subcasesReport\": None,\n",
    "            \"freeTextQuery\": \"junction box with screw stuck\"\n",
    "        }\n",
    "    ],\n",
    "    \"filterDocument\": []\n",
    "}\n",
    "\n",
    "url = f'{host}/search-by-similarity/'\n",
    "r = requests.post(url.format(host), json= body)\n",
    "print(r.content)"
   ]
  },
  {
   "cell_type": "markdown",
   "id": "3b9cc008",
   "metadata": {},
   "source": [
    "## Submit cluster request"
   ]
  },
  {
   "cell_type": "code",
   "execution_count": 126,
   "id": "844b5b34",
   "metadata": {},
   "outputs": [
    {
     "name": "stdout",
     "output_type": "stream",
     "text": [
      "b'{\"Clustering request accepted\":\"cluster-3\"}\\n'\n"
     ]
    }
   ],
   "source": [
    "docs = [{\"caseNumber\": \"{}\".format(90200002+_i)}  for _i in range(0,100)]\n",
    "#docs = [{\"caseNumber\": \"test\"}]\n",
    "\n",
    "\n",
    "body = {\n",
    "  \"searchID\": \"cluster-3\",\n",
    "  \"searchDocuments\": docs,\n",
    "  \"filterDocument\": [\n",
    "    {\n",
    "\n",
    "    }\n",
    "  ]\n",
    "\n",
    "}\n",
    "url = f'{host}/submit-clusters-request/'\n",
    "r = requests.post(url.format(host), json= body)\n",
    "print(r.content)"
   ]
  },
  {
   "cell_type": "code",
   "execution_count": 127,
   "id": "50644527",
   "metadata": {},
   "outputs": [
    {
     "data": {
      "text/plain": [
       "{'searchID': 'cluster-3',\n",
       " 'searchDocuments': [{'caseNumber': '90200002'},\n",
       "  {'caseNumber': '90200003'},\n",
       "  {'caseNumber': '90200004'},\n",
       "  {'caseNumber': '90200005'},\n",
       "  {'caseNumber': '90200006'},\n",
       "  {'caseNumber': '90200007'},\n",
       "  {'caseNumber': '90200008'},\n",
       "  {'caseNumber': '90200009'},\n",
       "  {'caseNumber': '90200010'},\n",
       "  {'caseNumber': '90200011'},\n",
       "  {'caseNumber': '90200012'},\n",
       "  {'caseNumber': '90200013'},\n",
       "  {'caseNumber': '90200014'},\n",
       "  {'caseNumber': '90200015'},\n",
       "  {'caseNumber': '90200016'},\n",
       "  {'caseNumber': '90200017'},\n",
       "  {'caseNumber': '90200018'},\n",
       "  {'caseNumber': '90200019'},\n",
       "  {'caseNumber': '90200020'},\n",
       "  {'caseNumber': '90200021'},\n",
       "  {'caseNumber': '90200022'},\n",
       "  {'caseNumber': '90200023'},\n",
       "  {'caseNumber': '90200024'},\n",
       "  {'caseNumber': '90200025'},\n",
       "  {'caseNumber': '90200026'},\n",
       "  {'caseNumber': '90200027'},\n",
       "  {'caseNumber': '90200028'},\n",
       "  {'caseNumber': '90200029'},\n",
       "  {'caseNumber': '90200030'},\n",
       "  {'caseNumber': '90200031'},\n",
       "  {'caseNumber': '90200032'},\n",
       "  {'caseNumber': '90200033'},\n",
       "  {'caseNumber': '90200034'},\n",
       "  {'caseNumber': '90200035'},\n",
       "  {'caseNumber': '90200036'},\n",
       "  {'caseNumber': '90200037'},\n",
       "  {'caseNumber': '90200038'},\n",
       "  {'caseNumber': '90200039'},\n",
       "  {'caseNumber': '90200040'},\n",
       "  {'caseNumber': '90200041'},\n",
       "  {'caseNumber': '90200042'},\n",
       "  {'caseNumber': '90200043'},\n",
       "  {'caseNumber': '90200044'},\n",
       "  {'caseNumber': '90200045'},\n",
       "  {'caseNumber': '90200046'},\n",
       "  {'caseNumber': '90200047'},\n",
       "  {'caseNumber': '90200048'},\n",
       "  {'caseNumber': '90200049'},\n",
       "  {'caseNumber': '90200050'},\n",
       "  {'caseNumber': '90200051'},\n",
       "  {'caseNumber': '90200052'},\n",
       "  {'caseNumber': '90200053'},\n",
       "  {'caseNumber': '90200054'},\n",
       "  {'caseNumber': '90200055'},\n",
       "  {'caseNumber': '90200056'},\n",
       "  {'caseNumber': '90200057'},\n",
       "  {'caseNumber': '90200058'},\n",
       "  {'caseNumber': '90200059'},\n",
       "  {'caseNumber': '90200060'},\n",
       "  {'caseNumber': '90200061'},\n",
       "  {'caseNumber': '90200062'},\n",
       "  {'caseNumber': '90200063'},\n",
       "  {'caseNumber': '90200064'},\n",
       "  {'caseNumber': '90200065'},\n",
       "  {'caseNumber': '90200066'},\n",
       "  {'caseNumber': '90200067'},\n",
       "  {'caseNumber': '90200068'},\n",
       "  {'caseNumber': '90200069'},\n",
       "  {'caseNumber': '90200070'},\n",
       "  {'caseNumber': '90200071'},\n",
       "  {'caseNumber': '90200072'},\n",
       "  {'caseNumber': '90200073'},\n",
       "  {'caseNumber': '90200074'},\n",
       "  {'caseNumber': '90200075'},\n",
       "  {'caseNumber': '90200076'},\n",
       "  {'caseNumber': '90200077'},\n",
       "  {'caseNumber': '90200078'},\n",
       "  {'caseNumber': '90200079'},\n",
       "  {'caseNumber': '90200080'},\n",
       "  {'caseNumber': '90200081'},\n",
       "  {'caseNumber': '90200082'},\n",
       "  {'caseNumber': '90200083'},\n",
       "  {'caseNumber': '90200084'},\n",
       "  {'caseNumber': '90200085'},\n",
       "  {'caseNumber': '90200086'},\n",
       "  {'caseNumber': '90200087'},\n",
       "  {'caseNumber': '90200088'},\n",
       "  {'caseNumber': '90200089'},\n",
       "  {'caseNumber': '90200090'},\n",
       "  {'caseNumber': '90200091'},\n",
       "  {'caseNumber': '90200092'},\n",
       "  {'caseNumber': '90200093'},\n",
       "  {'caseNumber': '90200094'},\n",
       "  {'caseNumber': '90200095'},\n",
       "  {'caseNumber': '90200096'},\n",
       "  {'caseNumber': '90200097'},\n",
       "  {'caseNumber': '90200098'},\n",
       "  {'caseNumber': '90200099'},\n",
       "  {'caseNumber': '90200100'},\n",
       "  {'caseNumber': '90200101'}],\n",
       " 'filterDocument': [{}]}"
      ]
     },
     "execution_count": 127,
     "metadata": {},
     "output_type": "execute_result"
    }
   ],
   "source": [
    "body"
   ]
  },
  {
   "cell_type": "code",
   "execution_count": null,
   "id": "a4cbeea5-30d9-44a0-944c-dc924490a64f",
   "metadata": {},
   "outputs": [],
   "source": []
  }
 ],
 "metadata": {
  "kernelspec": {
   "display_name": "Python 3 (ipykernel)",
   "language": "python",
   "name": "python3"
  },
  "language_info": {
   "codemirror_mode": {
    "name": "ipython",
    "version": 3
   },
   "file_extension": ".py",
   "mimetype": "text/x-python",
   "name": "python",
   "nbconvert_exporter": "python",
   "pygments_lexer": "ipython3",
   "version": "3.8.10"
  },
  "varInspector": {
   "cols": {
    "lenName": 16,
    "lenType": 16,
    "lenVar": 40
   },
   "kernels_config": {
    "python": {
     "delete_cmd_postfix": "",
     "delete_cmd_prefix": "del ",
     "library": "var_list.py",
     "varRefreshCmd": "print(var_dic_list())"
    },
    "r": {
     "delete_cmd_postfix": ") ",
     "delete_cmd_prefix": "rm(",
     "library": "var_list.r",
     "varRefreshCmd": "cat(var_dic_list()) "
    }
   },
   "types_to_exclude": [
    "module",
    "function",
    "builtin_function_or_method",
    "instance",
    "_Feature"
   ],
   "window_display": false
  }
 },
 "nbformat": 4,
 "nbformat_minor": 5
}
